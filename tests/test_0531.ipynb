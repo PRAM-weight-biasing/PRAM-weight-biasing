{
 "cells": [
  {
   "cell_type": "code",
   "execution_count": 4,
   "metadata": {},
   "outputs": [
    {
     "name": "stdout",
     "output_type": "stream",
     "text": [
      "fc1.weight weights: tensor([[1., 2., 3.],\n",
      "        [4., 5., 6.],\n",
      "        [7., 8., 9.]])\n",
      "fc1.bias biases: tensor([0., 0., 0.])\n",
      "fc2.weight weights: tensor([[-0.1086,  0.3443,  0.4382],\n",
      "        [ 0.0948,  0.4105, -0.0410],\n",
      "        [ 0.4659, -0.4888,  0.1039]])\n",
      "fc2.bias biases: tensor([-0.2957,  0.4160,  0.3593])\n"
     ]
    }
   ],
   "source": [
    "import torch\n",
    "import torch.nn as nn\n",
    "\n",
    "class SimpleNN(nn.Module):\n",
    "    def __init__(self):\n",
    "        super(SimpleNN, self).__init__()\n",
    "        self.fc1 = nn.Linear(3, 3)  # Example: 3 input neurons, 3 output neurons\n",
    "        self.fc2 = nn.Linear(3, 3)  # Example: 3 input neurons, 3 output neurons\n",
    "        \n",
    "    def forward(self, x):\n",
    "        x = torch.relu(self.fc1(x))\n",
    "        x = self.fc2(x)\n",
    "        return x\n",
    "\n",
    "# Instantiate the model\n",
    "model = SimpleNN()\n",
    "\n",
    "# Manually set the weights for the first layer to [1, 2, 3, 4, 5, 6, 7, 8, 9]\n",
    "# The weights tensor should match the shape of the layer's weight matrix\n",
    "fixed_weights = torch.tensor([[1.0, 2.0, 3.0],\n",
    "                              [4.0, 5.0, 6.0],\n",
    "                              [7.0, 8.0, 9.0]])\n",
    "model.fc1.weight.data = fixed_weights\n",
    "\n",
    "# Optionally, you can also set biases if needed, for example to zeros\n",
    "model.fc1.bias.data = torch.zeros(model.fc1.bias.size())\n",
    "\n",
    "# Check the weights to ensure they are set correctly\n",
    "for name, param in model.named_parameters():\n",
    "    if 'weight' in name:\n",
    "        print(f\"{name} weights: {param.data}\")\n",
    "    elif 'bias' in name:\n",
    "        print(f\"{name} biases: {param.data}\")"
   ]
  },
  {
   "cell_type": "code",
   "execution_count": 8,
   "metadata": {},
   "outputs": [
    {
     "data": {
      "text/plain": [
       "array([0. , 0.1, 0.2, 0.3, 0.4, 0.5, 0.6, 0.7, 0.8, 0.9])"
      ]
     },
     "execution_count": 8,
     "metadata": {},
     "output_type": "execute_result"
    }
   ],
   "source": [
    "import numpy as np\n",
    "np.arange(0, 1, 0.1)"
   ]
  },
  {
   "cell_type": "code",
   "execution_count": 9,
   "metadata": {},
   "outputs": [
    {
     "data": {
      "text/plain": [
       "tensor([0.0000, 0.1000, 0.2000, 0.3000, 0.4000, 0.5000, 0.6000, 0.7000, 0.8000,\n",
       "        0.9000], dtype=torch.float64)"
      ]
     },
     "execution_count": 9,
     "metadata": {},
     "output_type": "execute_result"
    }
   ],
   "source": [
    "weights_list = np.arange(0, 1, 0.1)\n",
    "fixed_weights = torch.from_numpy(weights_list)\n",
    "fixed_weights"
   ]
  },
  {
   "cell_type": "code",
   "execution_count": 23,
   "metadata": {},
   "outputs": [],
   "source": [
    "class SimpleNN(nn.Module):\n",
    "    def __init__(self):\n",
    "        super(SimpleNN, self).__init__()\n",
    "        self.fc1 = nn.Linear(1000, 1) \n",
    "        \n",
    "    def forward(self, x):\n",
    "        x = self.fc1(x)\n",
    "        return x\n",
    "\n",
    "# Instantiate the model\n",
    "model = SimpleNN()"
   ]
  },
  {
   "cell_type": "code",
   "execution_count": 30,
   "metadata": {},
   "outputs": [
    {
     "name": "stdout",
     "output_type": "stream",
     "text": [
      "Weights: Parameter containing:\n",
      "tensor([-2.0000, -1.9980, -1.9960,  ...,  1.9960,  1.9980,  2.0000],\n",
      "       requires_grad=True)\n",
      "Bias: Parameter containing:\n",
      "tensor([-0.0179], requires_grad=True)\n"
     ]
    }
   ],
   "source": [
    "from torch.nn.parameter import Parameter\n",
    "\n",
    "class SimpleNN(nn.Module):\n",
    "    def __init__(self):\n",
    "        super(SimpleNN, self).__init__()\n",
    "        self.fc1 = nn.Linear(1000, 1) \n",
    "        \n",
    "    def forward(self, x):\n",
    "        x = self.fc1(x)\n",
    "        return x\n",
    "\n",
    "# Instantiate the model\n",
    "model = SimpleNN()\n",
    "\n",
    "fixed_weights = torch.linspace(-2, 2, 2000)\n",
    "model.fc1.weight = Parameter(fixed_weights)\n",
    "\n",
    "# Print the weights and bias to verify\n",
    "print(\"Weights:\", model.fc1.weight)\n",
    "print(\"Bias:\", model.fc1.bias)"
   ]
  },
  {
   "cell_type": "code",
   "execution_count": 17,
   "metadata": {},
   "outputs": [
    {
     "name": "stdout",
     "output_type": "stream",
     "text": [
      "Parameter containing:\n",
      "tensor([[-0.0022,  0.0149, -0.0046,  ..., -0.0024, -0.0120,  0.0080]],\n",
      "       requires_grad=True)\n",
      "1\n"
     ]
    }
   ],
   "source": [
    "num = 0\n",
    "for name, param in model.named_parameters():\n",
    "    if 'weight' in name:\n",
    "        num =+1\n",
    "        \n",
    "        print(param)\n",
    "        \n",
    "print(num)"
   ]
  },
  {
   "cell_type": "code",
   "execution_count": 27,
   "metadata": {},
   "outputs": [
    {
     "name": "stdout",
     "output_type": "stream",
     "text": [
      "IdealDevice()\n"
     ]
    }
   ],
   "source": [
    "from torch.nn.parameter import Parameter\n",
    "from aihwkit.simulator.configs import InferenceRPUConfig\n",
    "\n",
    "test_layer = nn.Linear(2000, 1)\n",
    "\n",
    "linspace_tensor = torch.linspace(-2, 2, 2000)\n",
    "forcing_tensor = Parameter(linspace_tensor)\n",
    "\n",
    "test_layer.weight = forcing_tensor\n",
    "\n",
    "rpu_config = InferenceRPUConfig()\n",
    "\n",
    "print(rpu_config.device)"
   ]
  },
  {
   "cell_type": "code",
   "execution_count": null,
   "metadata": {},
   "outputs": [],
   "source": []
  }
 ],
 "metadata": {
  "kernelspec": {
   "display_name": ".venv",
   "language": "python",
   "name": ".venv"
  },
  "language_info": {
   "codemirror_mode": {
    "name": "ipython",
    "version": 3
   },
   "file_extension": ".py",
   "mimetype": "text/x-python",
   "name": "python",
   "nbconvert_exporter": "python",
   "pygments_lexer": "ipython3",
   "version": "3.10.12"
  }
 },
 "nbformat": 4,
 "nbformat_minor": 2
}
