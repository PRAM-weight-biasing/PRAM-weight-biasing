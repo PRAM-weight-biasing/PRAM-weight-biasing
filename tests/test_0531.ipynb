{
 "cells": [
  {
   "cell_type": "code",
   "execution_count": 4,
   "metadata": {},
   "outputs": [
    {
     "name": "stdout",
     "output_type": "stream",
     "text": [
      "fc1.weight weights: tensor([[1., 2., 3.],\n",
      "        [4., 5., 6.],\n",
      "        [7., 8., 9.]])\n",
      "fc1.bias biases: tensor([0., 0., 0.])\n",
      "fc2.weight weights: tensor([[-0.1086,  0.3443,  0.4382],\n",
      "        [ 0.0948,  0.4105, -0.0410],\n",
      "        [ 0.4659, -0.4888,  0.1039]])\n",
      "fc2.bias biases: tensor([-0.2957,  0.4160,  0.3593])\n"
     ]
    }
   ],
   "source": [
    "import torch\n",
    "import torch.nn as nn\n",
    "\n",
    "class SimpleNN(nn.Module):\n",
    "    def __init__(self):\n",
    "        super(SimpleNN, self).__init__()\n",
    "        self.fc1 = nn.Linear(3, 3)  # Example: 3 input neurons, 3 output neurons\n",
    "        self.fc2 = nn.Linear(3, 3)  # Example: 3 input neurons, 3 output neurons\n",
    "        \n",
    "    def forward(self, x):\n",
    "        x = torch.relu(self.fc1(x))\n",
    "        x = self.fc2(x)\n",
    "        return x\n",
    "\n",
    "# Instantiate the model\n",
    "model = SimpleNN()\n",
    "\n",
    "# Manually set the weights for the first layer to [1, 2, 3, 4, 5, 6, 7, 8, 9]\n",
    "# The weights tensor should match the shape of the layer's weight matrix\n",
    "fixed_weights = torch.tensor([[1.0, 2.0, 3.0],\n",
    "                              [4.0, 5.0, 6.0],\n",
    "                              [7.0, 8.0, 9.0]])\n",
    "model.fc1.weight.data = fixed_weights\n",
    "\n",
    "# Optionally, you can also set biases if needed, for example to zeros\n",
    "model.fc1.bias.data = torch.zeros(model.fc1.bias.size())\n",
    "\n",
    "# Check the weights to ensure they are set correctly\n",
    "for name, param in model.named_parameters():\n",
    "    if 'weight' in name:\n",
    "        print(f\"{name} weights: {param.data}\")\n",
    "    elif 'bias' in name:\n",
    "        print(f\"{name} biases: {param.data}\")"
   ]
  },
  {
   "cell_type": "code",
   "execution_count": 8,
   "metadata": {},
   "outputs": [
    {
     "data": {
      "text/plain": [
       "array([0. , 0.1, 0.2, 0.3, 0.4, 0.5, 0.6, 0.7, 0.8, 0.9])"
      ]
     },
     "execution_count": 8,
     "metadata": {},
     "output_type": "execute_result"
    }
   ],
   "source": [
    "import numpy as np\n",
    "np.arange(0, 1, 0.1)"
   ]
  },
  {
   "cell_type": "code",
   "execution_count": 9,
   "metadata": {},
   "outputs": [
    {
     "data": {
      "text/plain": [
       "tensor([0.0000, 0.1000, 0.2000, 0.3000, 0.4000, 0.5000, 0.6000, 0.7000, 0.8000,\n",
       "        0.9000], dtype=torch.float64)"
      ]
     },
     "execution_count": 9,
     "metadata": {},
     "output_type": "execute_result"
    }
   ],
   "source": [
    "weights_list = np.arange(0, 1, 0.1)\n",
    "fixed_weights = torch.from_numpy(weights_list)\n",
    "fixed_weights"
   ]
  },
  {
   "cell_type": "code",
   "execution_count": 23,
   "metadata": {},
   "outputs": [],
   "source": [
    "class SimpleNN(nn.Module):\n",
    "    def __init__(self):\n",
    "        super(SimpleNN, self).__init__()\n",
    "        self.fc1 = nn.Linear(1000, 1) \n",
    "        \n",
    "    def forward(self, x):\n",
    "        x = self.fc1(x)\n",
    "        return x\n",
    "\n",
    "# Instantiate the model\n",
    "model = SimpleNN()"
   ]
  },
  {
   "cell_type": "code",
   "execution_count": 33,
   "metadata": {},
   "outputs": [
    {
     "name": "stdout",
     "output_type": "stream",
     "text": [
      "Weights: Parameter containing:\n",
      "tensor([-2.0000, -1.9980, -1.9960,  ...,  1.9960,  1.9980,  2.0000],\n",
      "       requires_grad=True)\n",
      "Bias: Parameter containing:\n",
      "tensor([0.0135], requires_grad=True)\n"
     ]
    }
   ],
   "source": [
    "from torch.nn.parameter import Parameter\n",
    "\n",
    "class SimpleNN(nn.Module):\n",
    "    def __init__(self):\n",
    "        super(SimpleNN, self).__init__()\n",
    "        self.fc1 = nn.Linear(2000, 1) \n",
    "        \n",
    "    def forward(self, x):\n",
    "        x = self.fc1(x)\n",
    "        return x\n",
    "\n",
    "# Instantiate the model\n",
    "model = SimpleNN()\n",
    "\n",
    "fixed_weights = torch.linspace(-2, 2, 2000)\n",
    "model.fc1.weight = Parameter(fixed_weights)\n",
    "\n",
    "# Print the weights and bias to verify\n",
    "print(\"Weights:\", model.fc1.weight)\n",
    "print(\"Bias:\", model.fc1.bias)"
   ]
  },
  {
   "cell_type": "code",
   "execution_count": 34,
   "metadata": {},
   "outputs": [],
   "source": [
    "from aihwkit.simulator.configs import InferenceRPUConfig\n",
    "from aihwkit.nn.conversion import convert_to_analog\n",
    "from aihwkit.inference import PCMLikeNoiseModel\n",
    "import matplotlib.pyplot as plt\n",
    "from aihwkit.simulator.presets.devices import PCMPresetDevice\n",
    "\n",
    "rpu_config = InferenceRPUConfig()\n",
    "rpu_config.device = PCMPresetDevice()\n",
    "\n",
    "analog_model = convert_to_analog(model, rpu_config)"
   ]
  },
  {
   "cell_type": "code",
   "execution_count": 39,
   "metadata": {},
   "outputs": [
    {
     "data": {
      "text/plain": [
       "AnalogWrapperSimpleNN(\n",
       "  (fc1): AnalogLinear(\n",
       "    in_features=2000, out_features=1, bias=True, InferenceRPUConfig\n",
       "    (analog_module): TileModuleArray(\n",
       "      (array): ModuleList(\n",
       "        (0-3): 4 x ModuleList(\n",
       "          (0): InferenceTile(RPUPulsed<float>[SimpleRPUDevice](1,500))\n",
       "        )\n",
       "      )\n",
       "    )\n",
       "  )\n",
       ")"
      ]
     },
     "execution_count": 39,
     "metadata": {},
     "output_type": "execute_result"
    }
   ],
   "source": [
    "analog_model"
   ]
  },
  {
   "cell_type": "code",
   "execution_count": 58,
   "metadata": {},
   "outputs": [
    {
     "ename": "AttributeError",
     "evalue": "'collections.OrderedDict' object has no attribute 'reshape'",
     "output_type": "error",
     "traceback": [
      "\u001b[0;31m---------------------------------------------------------------------------\u001b[0m",
      "\u001b[0;31mAttributeError\u001b[0m                            Traceback (most recent call last)",
      "Cell \u001b[0;32mIn[58], line 4\u001b[0m\n\u001b[1;32m      1\u001b[0m a_weights \u001b[38;5;241m=\u001b[39m analog_model\u001b[38;5;241m.\u001b[39mget_weights()\n\u001b[1;32m      3\u001b[0m \u001b[38;5;66;03m# print(analog_model.get_weights())\u001b[39;00m\n\u001b[0;32m----> 4\u001b[0m plt\u001b[38;5;241m.\u001b[39mhist(\u001b[43ma_weights\u001b[49m\u001b[38;5;241;43m.\u001b[39;49m\u001b[43mreshape\u001b[49m(\u001b[38;5;241m-\u001b[39m\u001b[38;5;241m1\u001b[39m), \u001b[38;5;241m1000\u001b[39m)\n\u001b[1;32m      5\u001b[0m plt\u001b[38;5;241m.\u001b[39mshow()\n\u001b[1;32m      6\u001b[0m \u001b[38;5;66;03m# plt.savefig('before_drift.png')\u001b[39;00m\n\u001b[1;32m      7\u001b[0m \u001b[38;5;66;03m# plt.clf()\u001b[39;00m\n",
      "\u001b[0;31mAttributeError\u001b[0m: 'collections.OrderedDict' object has no attribute 'reshape'"
     ]
    }
   ],
   "source": [
    "a_weights = analog_model.get_weights()\n",
    "\n",
    "# print(analog_model.get_weights())\n",
    "plt.hist(a_weights.reshape(-1), 1000)\n",
    "plt.show()\n",
    "# plt.savefig('before_drift.png')\n",
    "# plt.clf()\n"
   ]
  },
  {
   "cell_type": "code",
   "execution_count": 81,
   "metadata": {},
   "outputs": [
    {
     "name": "stdout",
     "output_type": "stream",
     "text": [
      "(tensor([[-2.0000, -1.9980, -1.9960,  ...,  1.9960,  1.9980,  2.0000]]), tensor([-0.0209]))\n"
     ]
    },
    {
     "data": {
      "image/png": "[encoded data removed]",
      "text/plain": [
       "<Figure size 640x480 with 1 Axes>"
      ]
     },
     "metadata": {},
     "output_type": "display_data"
    },
    {
     "name": "stdout",
     "output_type": "stream",
     "text": [
      "tensor([-2.0000, -1.9980, -1.9960,  ...,  1.9960,  1.9980,  2.0000])\n"
     ]
    }
   ],
   "source": [
    "test_layer = nn.Linear(2000, 1)\n",
    "\n",
    "linspace_tensor = torch.linspace(-2, 2, 2000)\n",
    "\n",
    "#forcing_tensor = Parameter(Tensor([[1.2, 0, -1.5, 0],[2, -3, 0, 0]]))\n",
    "forcing_tensor = Parameter(linspace_tensor)\n",
    "\n",
    "test_layer.weight = forcing_tensor\n",
    "\n",
    "rpu_config = InferenceRPUConfig()\n",
    "rpu_config.device = PCMPresetDevice()\n",
    "\n",
    "# print(rpu_config.device)\n",
    "# rpu_config.noise_model = PCMLikeNoiseModel(g_max=500)\n",
    "\n",
    "analog_model = convert_to_analog(test_layer, rpu_config)\n",
    "\n",
    "print(analog_model.get_weights())\n",
    "a_weights, _ = analog_model.get_weights()\n",
    "plt.hist(a_weights.reshape(-1), 1000)\n",
    "plt.show()\n",
    "print(a_weights.reshape(-1))\n",
    "# plt.savefig('before_drift.png')\n",
    "# plt.clf()"
   ]
  },
  {
   "cell_type": "code",
   "execution_count": 84,
   "metadata": {},
   "outputs": [
    {
     "data": {
      "image/png": "[encoded data removed]",
      "text/plain": [
       "<Figure size 640x480 with 1 Axes>"
      ]
     },
     "metadata": {},
     "output_type": "display_data"
    }
   ],
   "source": [
    "analog_model.eval() \n",
    "t_inf = 1e6\n",
    "\n",
    "analog_model.drift_analog_weights(t_inf)\n",
    "a_after_weights, _ = analog_model.get_weights()\n",
    "\n",
    "weight_change = a_after_weights - a_weights\n",
    "init_weights_vec = a_weights.reshape(-1)\n",
    "after_weight_vec = a_after_weights.reshape(-1)\n",
    "weight_change_vec = weight_change.reshape(-1)\n",
    "weight_change_ratio = weight_change_vec / init_weights_vec \n",
    "\n",
    "plt.plot(a_weights.reshape(-1), weight_change_vec)\n",
    "plt.show()"
   ]
  },
  {
   "cell_type": "code",
   "execution_count": 72,
   "metadata": {},
   "outputs": [
    {
     "data": {
      "text/plain": [
       "tensor([-2.0000, -1.9980, -1.9960,  ...,  1.9960,  1.9980,  2.0000])"
      ]
     },
     "execution_count": 72,
     "metadata": {},
     "output_type": "execute_result"
    }
   ],
   "source": [
    "init_weights_vec"
   ]
  },
  {
   "cell_type": "code",
   "execution_count": 73,
   "metadata": {},
   "outputs": [
    {
     "data": {
      "text/plain": [
       "tensor([[-2.0000, -1.9980, -1.9960,  ...,  1.9960,  1.9980,  2.0000]])"
      ]
     },
     "execution_count": 73,
     "metadata": {},
     "output_type": "execute_result"
    }
   ],
   "source": [
    "a_weights"
   ]
  },
  {
   "cell_type": "code",
   "execution_count": 116,
   "metadata": {},
   "outputs": [
    {
     "data": {
      "image/png": "[encoded data removed]",
      "text/plain": [
       "<Figure size 640x480 with 1 Axes>"
      ]
     },
     "metadata": {},
     "output_type": "display_data"
    }
   ],
   "source": [
    "model = nn.Linear(2000, 1)\n",
    "\n",
    "fixed_weights = torch.linspace(-2, 2, 2000)\n",
    "model.weight = Parameter(fixed_weights)\n",
    "\n",
    "# Print the weights and bias to verify\n",
    "# print(\"Weights:\", model.weight)\n",
    "# print(\"Bias:\", model.bias)\n",
    "\n",
    "rpu_config = InferenceRPUConfig()\n",
    "rpu_config.device = PCMPresetDevice()\n",
    "\n",
    "analog_model = convert_to_analog(model, rpu_config)\n",
    "\n",
    "# get initial weights\n",
    "init_weights, _ = analog_model.get_weights()\n",
    "init_weights_vec = init_weights.reshape(-1)   # convert to (N,1) tensor\n",
    "\n",
    "# setting inference mode\n",
    "analog_model.eval() \n",
    "t_inf = 1e6\n",
    "\n",
    "# get weights after t_inf\n",
    "analog_model.drift_analog_weights(t_inf)\n",
    "after_weights, _ = analog_model.get_weights()\n",
    "after_weights_vec = after_weights.reshape(-1)\n",
    "\n",
    "# delta weight = after = initial weight\n",
    "weight_change = after_weights - init_weights\n",
    "weight_change_vec = weight_change.reshape(-1)\n",
    "\n",
    "# weight change ratio = delta / initial\n",
    "weight_change_ratio = weight_change_vec / (init_weights_vec )\n",
    "\n",
    "# plotting\n",
    "plt.plot(init_weights_vec, weight_change_vec)\n",
    "plt.show()\n",
    "\n"
   ]
  },
  {
   "cell_type": "code",
   "execution_count": 117,
   "metadata": {},
   "outputs": [
    {
     "data": {
      "image/png": "[encoded data removed]",
      "text/plain": [
       "<Figure size 640x480 with 1 Axes>"
      ]
     },
     "metadata": {},
     "output_type": "display_data"
    }
   ],
   "source": [
    "\n",
    "plt.plot(init_weights_vec, weight_change_ratio)\n",
    "plt.show()"
   ]
  },
  {
   "cell_type": "code",
   "execution_count": 106,
   "metadata": {},
   "outputs": [],
   "source": [
    "new = init_weights_vec + 1e-5"
   ]
  },
  {
   "cell_type": "code",
   "execution_count": 107,
   "metadata": {},
   "outputs": [
    {
     "data": {
      "text/plain": [
       "tensor([-0.0090, -0.0070, -0.0050, -0.0030, -0.0010,  0.0010,  0.0030,  0.0050,\n",
       "         0.0070,  0.0090])"
      ]
     },
     "execution_count": 107,
     "metadata": {},
     "output_type": "execute_result"
    }
   ],
   "source": [
    "new[995:1005]\n"
   ]
  },
  {
   "cell_type": "code",
   "execution_count": 108,
   "metadata": {},
   "outputs": [
    {
     "data": {
      "text/plain": [
       "'0.00101043225731700659'"
      ]
     },
     "execution_count": 108,
     "metadata": {},
     "output_type": "execute_result"
    }
   ],
   "source": [
    "f\"{new[1000]:.20f}\""
   ]
  },
  {
   "cell_type": "code",
   "execution_count": 109,
   "metadata": {},
   "outputs": [
    {
     "data": {
      "text/plain": [
       "'0.00100043229758739471'"
      ]
     },
     "execution_count": 109,
     "metadata": {},
     "output_type": "execute_result"
    }
   ],
   "source": [
    "f\"{init_weights_vec[1000]:.20f}\""
   ]
  },
  {
   "cell_type": "code",
   "execution_count": 110,
   "metadata": {},
   "outputs": [
    {
     "data": {
      "text/plain": [
       "tensor(False)"
      ]
     },
     "execution_count": 110,
     "metadata": {},
     "output_type": "execute_result"
    }
   ],
   "source": [
    "new[1000] == init_weights_vec[1000]"
   ]
  },
  {
   "cell_type": "code",
   "execution_count": 111,
   "metadata": {},
   "outputs": [
    {
     "data": {
      "text/plain": [
       "tensor(1.0000e-05)"
      ]
     },
     "execution_count": 111,
     "metadata": {},
     "output_type": "execute_result"
    }
   ],
   "source": [
    "new[1000] - init_weights_vec[1000]"
   ]
  },
  {
   "cell_type": "code",
   "execution_count": 10,
   "metadata": {},
   "outputs": [
    {
     "name": "stdout",
     "output_type": "stream",
     "text": [
      "tensor([0, 1, 2, 3, 4, 5])\n"
     ]
    }
   ],
   "source": [
    "import torch\n",
    "\n",
    "a = torch.tensor([0,1,2,3,4,5])\n",
    "print(a)\n",
    "# torch.randn_like(a)"
   ]
  },
  {
   "cell_type": "code",
   "execution_count": 7,
   "metadata": {},
   "outputs": [
    {
     "data": {
      "text/plain": [
       "tensor([0.6982, 0.1036, 0.9529])"
      ]
     },
     "execution_count": 7,
     "metadata": {},
     "output_type": "execute_result"
    }
   ],
   "source": [
    "b = torch.rand(3)\n",
    "b"
   ]
  },
  {
   "cell_type": "code",
   "execution_count": 8,
   "metadata": {},
   "outputs": [
    {
     "data": {
      "text/plain": [
       "tensor([-1.6190,  0.1443, -0.5946])"
      ]
     },
     "execution_count": 8,
     "metadata": {},
     "output_type": "execute_result"
    }
   ],
   "source": [
    "torch.randn_like(b)"
   ]
  },
  {
   "cell_type": "code",
   "execution_count": 12,
   "metadata": {},
   "outputs": [
    {
     "data": {
      "text/plain": [
       "tensor([-0.2875, -0.6400,  0.8500])"
      ]
     },
     "execution_count": 12,
     "metadata": {},
     "output_type": "execute_result"
    }
   ],
   "source": [
    "c = torch.tensor([1.0, 2.0, 3.0])\n",
    "torch.randn_like(c)"
   ]
  },
  {
   "cell_type": "code",
   "execution_count": 15,
   "metadata": {},
   "outputs": [
    {
     "data": {
      "text/plain": [
       "tensor([-0.0010,  0.0010,  0.0030])"
      ]
     },
     "execution_count": 15,
     "metadata": {},
     "output_type": "execute_result"
    }
   ],
   "source": [
    "fixed_weights = torch.linspace(-2, 2, 2000)\n",
    "fixed_weights[999:1002]"
   ]
  },
  {
   "cell_type": "code",
   "execution_count": 16,
   "metadata": {},
   "outputs": [],
   "source": [
    "import pandas as pd\n",
    "import numpy as np\n",
    "\n",
    "# torch related methods\n",
    "import torch\n",
    "import torch.nn as nn\n",
    "from torch.nn.parameter import Parameter\n",
    "from aihwkit.simulator.configs import InferenceRPUConfig\n",
    "from aihwkit.nn.conversion import convert_to_analog\n",
    "from aihwkit.inference import PCMLikeNoiseModel\n",
    "import matplotlib.pyplot as plt\n",
    "from aihwkit.simulator.presets.devices import PCMPresetDevice\n",
    "\n",
    "from customized_noise_pcm import TestNoiseModel\n",
    "\n",
    "model = nn.Linear(2000, 1)\n",
    "\n",
    "fixed_weights = torch.linspace(-2, 2, 2000)\n",
    "model.weight = Parameter(fixed_weights)\n",
    "\n",
    "rpu_config = InferenceRPUConfig()\n",
    "rpu_config.device = PCMPresetDevice()       # change to paired PCM devices (Gp-Gm)\n",
    "rpu_config.noise_model = TestNoiseModel()   # change to customized noise model\n",
    "\n",
    "analog_model = convert_to_analog(model, rpu_config)\n",
    "\n",
    "# get initial weights\n",
    "init_weights, _ = analog_model.get_weights()"
   ]
  },
  {
   "cell_type": "code",
   "execution_count": 24,
   "metadata": {},
   "outputs": [
    {
     "data": {
      "text/plain": [
       "tensor([-0.0010,  0.0010,  0.0030])"
      ]
     },
     "execution_count": 24,
     "metadata": {},
     "output_type": "execute_result"
    }
   ],
   "source": [
    "init_weights.reshape(-1)[999:1002]"
   ]
  },
  {
   "cell_type": "code",
   "execution_count": 25,
   "metadata": {},
   "outputs": [],
   "source": [
    "init_weights_vec = init_weights.reshape(-1)   # convert to (N,1) tensor\n",
    "\n",
    "# setting inference mode\n",
    "analog_model.eval() \n",
    "t_inf = 1e6\n",
    "\n",
    "# get weights after t_inf\n",
    "analog_model.drift_analog_weights(t_inf)\n",
    "after_weights, _ = analog_model.get_weights()\n",
    "after_weights_vec = after_weights.reshape(-1)"
   ]
  },
  {
   "cell_type": "code",
   "execution_count": 31,
   "metadata": {},
   "outputs": [
    {
     "data": {
      "text/plain": [
       "tensor([ 4.4236e-06,  0.0000e+00, -8.5801e-03,  3.6915e-03,  0.0000e+00,\n",
       "        -1.5834e-03,  0.0000e+00,  0.0000e+00,  0.0000e+00,  5.3794e-03,\n",
       "         1.3951e-03,  6.7362e-04,  8.4416e-03,  3.0576e-04,  2.9640e-03])"
      ]
     },
     "execution_count": 31,
     "metadata": {},
     "output_type": "execute_result"
    }
   ],
   "source": [
    "after_weights_vec[995:1010]"
   ]
  },
  {
   "cell_type": "code",
   "execution_count": 33,
   "metadata": {},
   "outputs": [],
   "source": [
    "# delta weight = after = initial weight\n",
    "weight_change = after_weights - init_weights\n",
    "weight_change_vec = weight_change.reshape(-1)\n",
    "\n",
    "# weight change ratio = delta / initial\n",
    "weight_change_ratio = weight_change_vec / (init_weights_vec)"
   ]
  },
  {
   "cell_type": "code",
   "execution_count": 37,
   "metadata": {},
   "outputs": [
    {
     "data": {
      "text/plain": [
       "tensor([ 0.0094,  0.0121,  0.0085,  0.0142,  0.0122,  0.0090,  0.0070, -0.0036,\n",
       "         0.0067,  0.0010, -0.0026, -0.0030, -0.0050, -0.0070, -0.0036, -0.0096,\n",
       "        -0.0123, -0.0066, -0.0167, -0.0160])"
      ]
     },
     "execution_count": 37,
     "metadata": {},
     "output_type": "execute_result"
    }
   ],
   "source": [
    "weight_change_vec[990:1010]  # csv로 빼서 변화큰 애들이 어디에 위치해있는지 확인해보기"
   ]
  },
  {
   "cell_type": "code",
   "execution_count": 38,
   "metadata": {},
   "outputs": [
    {
     "data": {
      "text/plain": [
       "tensor([-1.0986,  0.0000,  1.0986])"
      ]
     },
     "execution_count": 38,
     "metadata": {},
     "output_type": "execute_result"
    }
   ],
   "source": [
    "a = torch.tensor([1,2,3])\n",
    "b = torch.tensor([3,2,1])\n",
    "np.log(a/b)"
   ]
  },
  {
   "cell_type": "code",
   "execution_count": 40,
   "metadata": {},
   "outputs": [
    {
     "data": {
      "text/plain": [
       "PCMPresetDevice(construction_seed=0, corrupt_devices_prob=0.0, corrupt_devices_range=0.1, diffusion=0.0, diffusion_dtod=0.0, drift=DriftParameter(nu=0.0, t_0=1.0, reset_tol=1e-07, nu_dtod=0.0, nu_std=0.0, wg_ratio=1.0, g_offset=0.0, w_offset=0.0, nu_k=0.0, log_g0=0.0, w_noise_std=0.0), dw_min=0.01, dw_min_dtod=0.2, dw_min_dtod_log_normal=False, dw_min_std=0.6, enforce_consistency=True, lifetime=0.0, lifetime_dtod=0.0, perfect_bias=False, reset=0.01, reset_dtod=0.02, reset_std=0.01, up_down=0.0, up_down_dtod=0.05, w_max=2.0, w_max_dtod=0.1, w_min=0.0, w_min_dtod=0.0, count_pulses=False, A_up=-27.235, A_down=-2.235, gamma_up=2.5, gamma_down=2.5, a=-1.0, b=0.0, dw_min_std_add=0.042, dw_min_std_slope=0.108, write_noise_std=0.0, apply_write_noise_on_set=True)"
      ]
     },
     "execution_count": 40,
     "metadata": {},
     "output_type": "execute_result"
    }
   ],
   "source": [
    "rpu_config = InferenceRPUConfig()\n",
    "rpu_config.device = PCMPresetDevice() \n",
    "rpu_config.device"
   ]
  },
  {
   "cell_type": "code",
   "execution_count": 41,
   "metadata": {},
   "outputs": [
    {
     "data": {
      "text/plain": [
       "DriftParameter(nu=0.0, t_0=1.0, reset_tol=1e-07, nu_dtod=0.0, nu_std=0.0, wg_ratio=1.0, g_offset=0.0, w_offset=0.0, nu_k=0.0, log_g0=0.0, w_noise_std=0.0)"
      ]
     },
     "execution_count": 41,
     "metadata": {},
     "output_type": "execute_result"
    }
   ],
   "source": [
    "rpu_config.device.drift"
   ]
  },
  {
   "cell_type": "code",
   "execution_count": 42,
   "metadata": {},
   "outputs": [],
   "source": [
    "from aihwkit.simulator.parameters.inference import DriftParameter\n",
    "\n",
    "my_driftparam = DriftParameter()"
   ]
  },
  {
   "cell_type": "code",
   "execution_count": 43,
   "metadata": {},
   "outputs": [],
   "source": [
    "my_driftparam.wg_ratio = 2.0"
   ]
  },
  {
   "cell_type": "code",
   "execution_count": 44,
   "metadata": {},
   "outputs": [],
   "source": [
    "rpu_config.device.drift = my_driftparam"
   ]
  },
  {
   "cell_type": "code",
   "execution_count": 45,
   "metadata": {},
   "outputs": [
    {
     "data": {
      "text/plain": [
       "PCMPresetDevice(construction_seed=0, corrupt_devices_prob=0.0, corrupt_devices_range=0.1, diffusion=0.0, diffusion_dtod=0.0, drift=DriftParameter(nu=0.0, t_0=1.0, reset_tol=1e-07, nu_dtod=0.0, nu_std=0.0, wg_ratio=2.0, g_offset=0.0, w_offset=0.0, nu_k=0.0, log_g0=0.0, w_noise_std=0.0), dw_min=0.01, dw_min_dtod=0.2, dw_min_dtod_log_normal=False, dw_min_std=0.6, enforce_consistency=True, lifetime=0.0, lifetime_dtod=0.0, perfect_bias=False, reset=0.01, reset_dtod=0.02, reset_std=0.01, up_down=0.0, up_down_dtod=0.05, w_max=2.0, w_max_dtod=0.1, w_min=0.0, w_min_dtod=0.0, count_pulses=False, A_up=-27.235, A_down=-2.235, gamma_up=2.5, gamma_down=2.5, a=-1.0, b=0.0, dw_min_std_add=0.042, dw_min_std_slope=0.108, write_noise_std=0.0, apply_write_noise_on_set=True)"
      ]
     },
     "execution_count": 45,
     "metadata": {},
     "output_type": "execute_result"
    }
   ],
   "source": [
    "rpu_config.device"
   ]
  },
  {
   "cell_type": "code",
   "execution_count": null,
   "metadata": {},
   "outputs": [],
   "source": []
  },
  {
   "cell_type": "code",
   "execution_count": 49,
   "metadata": {},
   "outputs": [
    {
     "data": {
      "image/png": "[encoded data removed]",
      "text/plain": [
       "<Figure size 640x480 with 1 Axes>"
      ]
     },
     "metadata": {},
     "output_type": "display_data"
    }
   ],
   "source": [
    "import numpy as np\n",
    "import matplotlib.pyplot as plt\n",
    "\n",
    "# Simulate g_relative\n",
    "g_relative = np.linspace(0, 1, 1000)\n",
    "\n",
    "# Linear drift function\n",
    "mu_linear = -0.1 * g_relative + 0.1\n",
    "\n",
    "plt.plot(g_relative, mu_linear)\n",
    "plt.xlabel('g_relative')\n",
    "plt.ylabel('mu_drift')\n",
    "plt.title('Linear Drift Coefficient vs. Relative Conductance')\n",
    "plt.grid(True)\n",
    "plt.axvline(x=0.5, color='r', linestyle='--', label='Midpoint |w_max/2|')\n",
    "plt.legend()\n",
    "plt.show()\n"
   ]
  },
  {
   "cell_type": "code",
   "execution_count": null,
   "metadata": {},
   "outputs": [],
   "source": []
  }
 ],
 "metadata": {
  "kernelspec": {
   "display_name": ".venv",
   "language": "python",
   "name": ".venv"
  },
  "language_info": {
   "codemirror_mode": {
    "name": "ipython",
    "version": 3
   },
   "file_extension": ".py",
   "mimetype": "text/x-python",
   "name": "python",
   "nbconvert_exporter": "python",
   "pygments_lexer": "ipython3",
   "version": "3.10.12"
  }
 },
 "nbformat": 4,
 "nbformat_minor": 2
}
