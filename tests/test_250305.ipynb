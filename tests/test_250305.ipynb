{
 "cells": [
  {
   "cell_type": "code",
   "execution_count": 24,
   "metadata": {},
   "outputs": [
    {
     "name": "stdout",
     "output_type": "stream",
     "text": [
      "\n",
      "=== Testing with g_min=0, g_max=25 ===\n",
      "g_target=25.000000 → Drift Coeff: 0.012782\n",
      "g_target=25.000000 → Drift Coeff: 0.007258\n",
      "g_target=25.000000 → Drift Coeff: 0.003650\n",
      "g_target=0.000000 → Drift Coeff: 0.003835\n",
      "g_target=12.194671 → Drift Coeff: 0.011689\n",
      "g_target=24.389341 → Drift Coeff: 0.009997\n",
      "\n",
      "=== Testing with g_min=1, g_max=25 ===\n",
      "g_target=25.000000 → Drift Coeff: 0.012357\n",
      "g_target=25.000000 → Drift Coeff: 0.007254\n",
      "g_target=25.000000 → Drift Coeff: 0.004558\n",
      "g_target=1.000000 → Drift Coeff: 0.015200\n",
      "g_target=12.706884 → Drift Coeff: 0.012696\n",
      "g_target=24.413769 → Drift Coeff: 0.025611\n",
      "\n",
      "=== Testing with g_min=5, g_max=25 ===\n",
      "g_target=25.000000 → Drift Coeff: 0.003815\n",
      "g_target=25.000000 → Drift Coeff: 0.010204\n",
      "g_target=25.000000 → Drift Coeff: 0.009440\n",
      "g_target=5.000000 → Drift Coeff: 0.008534\n",
      "g_target=14.755736 → Drift Coeff: 0.003544\n",
      "g_target=24.511473 → Drift Coeff: 0.007166\n",
      "\n",
      "=== Testing with g_min=10, g_max=25 ===\n",
      "g_target=25.000000 → Drift Coeff: 0.020603\n",
      "g_target=25.000000 → Drift Coeff: 0.017200\n",
      "g_target=25.000000 → Drift Coeff: 0.007584\n",
      "g_target=10.000000 → Drift Coeff: 0.017213\n",
      "g_target=17.316803 → Drift Coeff: 0.019041\n",
      "g_target=24.633606 → Drift Coeff: 0.002284\n"
     ]
    }
   ],
   "source": [
    "import torch\n",
    "import numpy as np\n",
    "from aihwkit.nn import AnalogLinear\n",
    "from aihwkit.simulator.configs import InferenceRPUConfig\n",
    "from aihwkit_test.customized_noise_pcm import TestNoiseModel  # 사용자 정의 noise model\n",
    "from network import InfModel\n",
    "\n",
    "# 테스트할 g_min, g_max 조합\n",
    "g_minmax_list = [[0, 25], [1, 25], [5, 25], [10, 25]]\n",
    "\n",
    "# 간단한 네트워크 (1-layer) 생성\n",
    "model = AnalogLinear(10, 10)  # 10x10 weight matrix\n",
    "\n",
    "for g_list in g_minmax_list:\n",
    "    g_min, g_max = g_list\n",
    "    print(f\"\\n=== Testing with g_min={g_min}, g_max={g_max} ===\")\n",
    "\n",
    "    # Inference Model 설정\n",
    "    inf_model = InfModel(model=model, mode=\"cifar10\", g_list=[g_min, g_max])\n",
    "    analog_model = inf_model.ConvertModel()\n",
    "    rpu_config = inf_model.SetConfig()\n",
    "\n",
    "    # Conductance 변환\n",
    "    for name, param in analog_model.named_parameters():\n",
    "        # if \"analog_module.shared_weights\" in name:\n",
    "        weights = param.data.cpu()\n",
    "        \n",
    "        # Convert to conductance\n",
    "        conductance_pair = rpu_config.noise_model.g_converter.convert_to_conductances(weights)\n",
    "        gp, gm = conductance_pair[0]  # (Gp, Gm)\n",
    "\n",
    "        # `g_target` 값 설정 (다양한 conductance 값 테스트)\n",
    "        g_target_values = [gp.min().item(), (gp.min().item() + gp.max().item()) / 2, gp.max().item()]\n",
    "\n",
    "        for g_target in g_target_values:\n",
    "            drift_coeff = rpu_config.noise_model.generate_drift_coefficients(torch.tensor([g_target]))\n",
    "            \n",
    "            print(f\"g_target={g_target:.6f} → Drift Coeff: {drift_coeff.item():.6f}\")\n",
    "\n"
   ]
  },
  {
   "cell_type": "code",
   "execution_count": 10,
   "metadata": {},
   "outputs": [],
   "source": [
    "name, param = analog_model.named_parameters()"
   ]
  },
  {
   "cell_type": "code",
   "execution_count": 16,
   "metadata": {},
   "outputs": [
    {
     "data": {
      "text/plain": [
       "torch.nn.parameter.Parameter"
      ]
     },
     "execution_count": 16,
     "metadata": {},
     "output_type": "execute_result"
    }
   ],
   "source": [
    "type(param[1])"
   ]
  },
  {
   "cell_type": "code",
   "execution_count": 17,
   "metadata": {},
   "outputs": [],
   "source": [
    "weights = param[1].data.cpu()"
   ]
  },
  {
   "cell_type": "code",
   "execution_count": 18,
   "metadata": {},
   "outputs": [
    {
     "data": {
      "text/plain": [
       "tensor([ 0.1707, -0.2422,  0.1681,  0.0057,  0.2799,  0.2481,  0.1535,  0.0952,\n",
       "         0.0088, -0.2817])"
      ]
     },
     "execution_count": 18,
     "metadata": {},
     "output_type": "execute_result"
    }
   ],
   "source": [
    "weights"
   ]
  },
  {
   "cell_type": "code",
   "execution_count": null,
   "metadata": {},
   "outputs": [],
   "source": []
  }
 ],
 "metadata": {
  "kernelspec": {
   "display_name": ".venv",
   "language": "python",
   "name": ".venv"
  },
  "language_info": {
   "codemirror_mode": {
    "name": "ipython",
    "version": 3
   },
   "file_extension": ".py",
   "mimetype": "text/x-python",
   "name": "python",
   "nbconvert_exporter": "python",
   "pygments_lexer": "ipython3",
   "version": "3.10.12"
  }
 },
 "nbformat": 4,
 "nbformat_minor": 2
}
