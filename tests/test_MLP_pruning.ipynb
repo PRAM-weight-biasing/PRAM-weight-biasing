{
 "cells": [
  {
   "cell_type": "markdown",
   "metadata": {},
   "source": [
    "#### 240507 no sequential model"
   ]
  },
  {
   "cell_type": "code",
   "execution_count": 1,
   "metadata": {},
   "outputs": [],
   "source": [
    "import torch\n",
    "from torch import nn\n",
    "import torch.nn.utils.prune as prune\n",
    "import torch.nn.functional as F\n",
    "import os"
   ]
  },
  {
   "cell_type": "code",
   "execution_count": 3,
   "metadata": {},
   "outputs": [],
   "source": [
    "dir_name = os.getcwd() + '/TestRun/'\n",
    "# ===========================================\n",
    "\"\"\" need to change \"\"\"\n",
    "test_time = \"Test_2024-05-07 16:27:42\" \n",
    "# ===========================================\n",
    "folder_path = dir_name + test_time\n",
    "model_name = 'best_model.pth'\n",
    "\n",
    "model = torch.load(f'{folder_path}/{model_name}')"
   ]
  },
  {
   "cell_type": "code",
   "execution_count": 4,
   "metadata": {},
   "outputs": [
    {
     "data": {
      "text/plain": [
       "simpleMLP(\n",
       "  (fc1): Linear(in_features=784, out_features=256, bias=True)\n",
       "  (fc2): Linear(in_features=256, out_features=100, bias=True)\n",
       "  (fc3): Linear(in_features=100, out_features=10, bias=True)\n",
       ")"
      ]
     },
     "execution_count": 4,
     "metadata": {},
     "output_type": "execute_result"
    }
   ],
   "source": [
    "model"
   ]
  },
  {
   "cell_type": "code",
   "execution_count": 5,
   "metadata": {},
   "outputs": [],
   "source": [
    "module3 = model.fc3"
   ]
  },
  {
   "cell_type": "code",
   "execution_count": 6,
   "metadata": {},
   "outputs": [
    {
     "data": {
      "text/plain": [
       "dict_keys(['weight', 'bias'])"
      ]
     },
     "execution_count": 6,
     "metadata": {},
     "output_type": "execute_result"
    }
   ],
   "source": [
    "dict(module3.named_parameters()).keys()"
   ]
  },
  {
   "cell_type": "code",
   "execution_count": 7,
   "metadata": {},
   "outputs": [
    {
     "data": {
      "text/plain": [
       "[('weight',\n",
       "  Parameter containing:\n",
       "  tensor([[-5.5163e-01, -5.2078e-01, -4.4646e-02, -1.8916e-01, -8.0582e-02,\n",
       "           -9.7374e-02,  2.7533e-02,  1.5437e-01,  8.2636e-03, -1.8464e-01,\n",
       "           -7.5806e-02, -4.9272e-02, -1.2824e-01, -3.0819e-01,  6.4598e-03,\n",
       "           -4.2592e-02, -4.7694e-01, -2.6474e-01, -2.0413e-01, -3.4162e-01,\n",
       "            1.6019e-02,  4.6455e-02, -4.1856e-01, -5.0845e-01,  3.7243e-02,\n",
       "           -7.9854e-01,  1.6042e-02, -3.5425e-01, -5.9268e-02, -1.6584e-01,\n",
       "            3.4213e-01, -5.7059e-02, -3.7362e-01,  2.9144e-02, -2.1529e-01,\n",
       "           -2.7035e-01, -8.5878e-02,  1.6492e-01, -3.4183e-01, -2.9343e-01,\n",
       "           -3.7803e-01, -3.4608e-02,  1.0363e-01, -1.4115e-01, -4.2193e-01,\n",
       "            3.4074e-02, -6.0120e-02, -1.3608e-01, -2.2672e-01, -2.3816e-01,\n",
       "            9.3531e-02,  2.4983e-03, -1.4652e-01, -5.8499e-02, -1.3317e-01,\n",
       "            1.5295e-01, -2.5230e-01, -4.3120e-01, -5.6895e-03, -1.5867e-01,\n",
       "           -5.0489e-02, -1.3846e-01, -2.0774e-01,  1.9282e-01, -1.7486e-01,\n",
       "           -3.0679e-01, -9.6393e-03, -4.5310e-01, -1.9567e-01, -1.7332e-01,\n",
       "            9.6457e-03, -2.0539e-01,  2.4506e-01, -2.0078e-01, -5.6569e-01,\n",
       "           -1.4801e-01, -9.6445e-04, -5.7925e-02, -1.6058e-01, -1.7364e-01,\n",
       "           -2.8607e-01,  5.4353e-01, -5.5850e-01, -2.9275e-01,  2.2588e-01,\n",
       "           -5.5466e-02, -2.4830e-01, -3.2089e-01, -5.5635e-02, -7.2686e-01,\n",
       "           -4.7024e-01,  3.6659e-01,  1.2382e-01,  1.0114e-01,  1.7442e-01,\n",
       "           -1.9709e-01,  4.9684e-02, -5.0338e-01, -1.4418e+00,  2.2756e-02],\n",
       "          [-4.5769e-01,  1.6283e-01, -7.9691e-02, -1.2398e-01,  3.0086e-01,\n",
       "           -1.6912e-01, -7.2443e-02,  7.7869e-02, -4.5916e-01, -4.7857e-01,\n",
       "           -1.5699e-01, -1.1159e-03, -1.2367e-01, -3.9260e-02, -6.4031e-01,\n",
       "            1.1691e-01,  2.1866e-01, -1.4998e-01, -9.0605e-02, -4.3388e-02,\n",
       "            3.6340e-02, -2.6057e-01, -5.5279e-01,  2.8147e-01, -1.5330e-02,\n",
       "           -5.4822e-01, -1.0583e-01, -1.2226e-01, -2.8113e-01, -2.4819e-01,\n",
       "           -3.4724e-01, -4.4318e-01,  1.6682e-01, -6.5530e-01, -6.4373e-01,\n",
       "           -4.3073e-01, -7.6798e-01, -1.7040e-01,  4.7774e-02, -6.0831e-01,\n",
       "           -7.3021e-01, -7.3022e-02, -2.3685e-02, -1.0256e-01,  5.8759e-02,\n",
       "            5.2838e-02, -3.4374e-01,  3.3060e-02, -6.5716e-01,  4.8174e-01,\n",
       "           -2.3142e-01, -1.4900e-01, -3.2850e-01,  9.8155e-02,  1.3344e-02,\n",
       "           -1.3831e+00, -3.4518e-02,  2.3646e-01, -3.9364e-01, -1.0838e-01,\n",
       "           -3.0962e-01, -9.3330e-01, -1.6158e-01, -9.2813e-03,  1.8456e-02,\n",
       "           -6.3498e-01,  3.2020e-02, -3.0977e-01, -1.8405e-01,  1.3660e-01,\n",
       "           -2.7311e-01, -9.3495e-01,  2.4333e-01, -5.7955e-01,  1.9325e-01,\n",
       "           -4.5250e-01,  9.5657e-02, -5.6310e-01, -2.4287e-01, -3.2727e-01,\n",
       "           -6.9093e-01, -4.3454e-01, -7.9168e-01, -1.0383e+00, -1.1270e-01,\n",
       "            1.6947e-02, -7.8713e-02,  4.7735e-01, -5.5631e-01, -5.2910e-01,\n",
       "           -3.0604e-01, -4.2395e-01, -2.7752e-01, -5.3201e-02, -1.8747e-01,\n",
       "            2.5686e-01,  1.8825e-01, -2.1866e-01, -7.2777e-02, -3.6978e-01],\n",
       "          [-1.9322e-01, -4.4996e-01, -1.9847e-01, -1.3256e-01, -6.0287e-02,\n",
       "           -5.4915e-01,  1.0664e-01, -4.6783e-01,  1.7133e-01, -1.8821e-01,\n",
       "            2.6414e-01,  1.7245e-02, -7.5900e-01,  1.0934e-01, -1.1590e-01,\n",
       "           -1.9600e-01, -1.8045e-01, -2.1903e-01, -1.8305e-01,  4.9106e-02,\n",
       "            1.2924e-01,  9.1067e-02, -2.2685e-01, -4.0626e-01,  3.5650e-02,\n",
       "           -8.4944e-01,  3.4226e-01, -2.0968e-01, -5.2009e-01, -3.7144e-02,\n",
       "           -1.5542e-01,  2.6806e-01,  1.4863e-01, -3.4833e-01, -7.3276e-02,\n",
       "           -2.7677e-01, -2.8423e-01,  5.8618e-02,  8.6910e-02, -7.2633e-01,\n",
       "           -1.8404e-01, -1.7193e-01, -2.0016e-01, -2.7072e-02, -8.3688e-01,\n",
       "            1.3611e-01,  1.7994e-02, -1.0217e-01,  2.8697e-02, -2.2429e-01,\n",
       "            5.3738e-03, -3.7395e-02,  1.9324e-01,  2.2912e-01, -7.7303e-02,\n",
       "           -3.9197e-02, -6.7136e-02,  1.8603e-01,  9.9682e-03, -6.2622e-02,\n",
       "           -3.1812e-01, -6.4134e-02, -2.4213e-01,  2.2025e-01, -5.1569e-01,\n",
       "            2.8901e-02, -3.5638e-02, -4.6019e-01, -2.8437e-01, -1.0391e-03,\n",
       "           -5.8384e-01,  3.3159e-01, -1.5724e-02, -7.7867e-02, -2.4301e-01,\n",
       "           -5.6410e-01,  1.3308e-01, -2.5504e-01, -5.6699e-02,  7.2390e-02,\n",
       "           -1.9428e-02, -3.9778e-01, -5.6914e-01, -5.1585e-01,  1.2404e-01,\n",
       "           -2.3441e-01, -3.9386e-01, -8.7878e-01, -1.6879e-02, -3.3032e-01,\n",
       "            1.1142e-01, -1.9239e-02,  1.6277e-02, -1.1154e-01,  1.2276e-01,\n",
       "           -2.3994e-01,  1.1743e-01, -4.9482e-02, -2.4317e-01, -4.8062e-01],\n",
       "          [-4.4203e-01,  1.1887e-01,  3.7731e-03, -2.1148e-01, -4.6980e-01,\n",
       "           -4.6388e-04, -3.7383e-01, -5.0893e-01,  5.6123e-02, -4.6278e-01,\n",
       "           -2.8938e-01,  9.1293e-02, -6.9897e-01,  4.4842e-02,  9.7072e-02,\n",
       "           -1.3405e-01, -8.8663e-01, -5.4609e-02, -2.8304e-01, -8.6568e-03,\n",
       "           -1.2856e-01, -8.9664e-02,  1.9678e-01, -7.4349e-01,  8.7305e-02,\n",
       "           -1.1475e+00, -1.8650e-01,  2.2348e-01, -1.2050e-01, -2.3071e-01,\n",
       "           -5.7050e-01, -1.3846e-02, -2.7031e-01, -4.5061e-01, -4.0073e-01,\n",
       "           -3.5720e-01, -3.7274e-01,  1.0336e-01, -8.4556e-02, -1.9749e-01,\n",
       "           -8.2295e-01,  2.3275e-02, -2.6555e-01,  3.4480e-02, -7.1745e-01,\n",
       "           -2.6377e-01, -2.1716e-01, -1.4312e-01, -7.8995e-02,  9.0927e-02,\n",
       "            2.0671e-02, -9.3305e-02, -2.6732e-02,  8.2866e-02, -1.5659e-01,\n",
       "           -5.8725e-01, -1.1672e-01,  1.2791e-01,  2.1857e-02,  1.0564e-02,\n",
       "           -4.3449e-01, -7.3169e-01, -2.2638e-01, -9.7109e-03,  6.7147e-02,\n",
       "           -1.0926e-01,  9.8344e-02, -2.0632e-01, -3.1690e-01, -9.7961e-02,\n",
       "            6.4300e-02,  2.1366e-01, -1.3230e-01, -4.8378e-01, -9.2062e-02,\n",
       "           -3.4548e-02, -2.2237e-01,  1.0388e-01, -1.1691e-01,  1.8680e-01,\n",
       "           -4.2503e-01, -3.2804e-01,  4.4401e-01, -5.8065e-01, -2.1340e-02,\n",
       "           -8.7512e-02, -1.7197e-01, -2.8089e-01, -1.1823e-01, -1.8013e-01,\n",
       "           -7.7726e-02,  4.3037e-02, -5.6900e-03, -1.1801e-01, -1.8876e-02,\n",
       "           -2.5551e-01, -1.6455e-01, -3.6213e-02, -3.6496e-01,  1.1764e-01],\n",
       "          [-1.0142e-01, -1.2608e-02,  2.5821e-01,  3.3284e-01, -2.2886e-01,\n",
       "            2.2248e-02, -2.8279e-02,  6.9581e-02,  1.6488e-01, -3.7563e-01,\n",
       "           -3.1578e-01, -1.0721e-01, -4.2136e-01,  1.5550e-01, -3.8854e-01,\n",
       "           -1.1225e-01, -3.6993e-01, -2.5518e-02, -8.9720e-03, -2.3719e-01,\n",
       "           -6.1243e-02,  3.0182e-01,  1.8102e-01,  7.4081e-02, -2.9971e-02,\n",
       "           -3.1091e-01,  4.9048e-02, -1.9030e-01,  8.6768e-02, -2.1433e-01,\n",
       "           -7.8195e-01, -9.0969e-02, -1.0790e-01, -1.2404e+00, -4.6765e-01,\n",
       "           -4.2620e-02, -1.2088e-01,  1.8906e-01,  9.0829e-02, -2.9487e-01,\n",
       "           -2.3954e-01,  4.7388e-02, -1.0363e-02, -9.8462e-02, -6.8341e-01,\n",
       "            2.5631e-01,  7.8140e-02, -1.4835e-01, -6.3105e-01, -2.8250e-01,\n",
       "            9.6896e-02, -2.1788e-01, -1.1702e-01,  1.7112e-01, -6.6158e-02,\n",
       "           -3.9347e-01,  1.4184e-01, -4.8180e-01, -4.4747e-02, -2.0343e-01,\n",
       "           -6.3355e-02, -1.2994e-02, -2.5463e-02,  3.6169e-01,  4.7342e-02,\n",
       "           -6.9871e-01, -2.7569e-01,  1.2912e-01, -9.0867e-02,  4.4687e-02,\n",
       "           -7.3090e-01, -8.0824e-02, -1.1480e-01, -4.8446e-01,  1.1648e-01,\n",
       "           -4.5670e-02, -5.6296e-01, -3.0770e-01, -4.6958e-01, -3.7242e-01,\n",
       "           -8.9389e-01, -1.2044e-01, -2.9071e-01, -3.0004e-01, -1.0212e-01,\n",
       "            1.4910e-01, -2.0402e-01, -8.3767e-03, -5.7862e-02, -3.5693e-01,\n",
       "           -9.5769e-02, -6.5561e-02,  3.3283e-02,  3.7876e-02, -2.5590e-01,\n",
       "           -7.3526e-02,  5.4422e-02, -9.2138e-01, -7.1053e-01,  9.9444e-02],\n",
       "          [ 2.8886e-01, -1.0090e-01,  8.8172e-02, -1.7741e-01,  1.2820e-01,\n",
       "           -1.1493e-01,  1.4521e-01, -4.6166e-01, -2.4973e-01,  1.5830e-01,\n",
       "           -1.8406e-01,  7.2173e-02, -4.0544e-01,  1.4225e-01,  2.0841e-01,\n",
       "           -1.6351e-01,  5.7373e-02,  7.2180e-03, -1.1262e-01,  3.9965e-02,\n",
       "           -1.5303e-01,  6.9543e-03, -1.3698e-01, -5.0183e-01,  1.5843e-01,\n",
       "           -1.0424e+00, -3.8266e-01,  1.2240e-01,  1.7823e-02, -2.2222e-01,\n",
       "           -6.5963e-01, -1.6255e-01, -9.4538e-02, -1.9889e-01,  5.5714e-02,\n",
       "           -1.6808e-01,  1.1685e-01,  2.0629e-01, -1.4869e-01,  7.8025e-02,\n",
       "           -4.6520e-01, -1.5339e-01, -1.4265e-02, -4.2244e-01, -1.0334e+00,\n",
       "           -3.3664e-01, -1.3762e-01,  1.7511e-01, -6.1377e-01, -4.5666e-01,\n",
       "           -5.1819e-02, -2.8238e-01,  2.3544e-01, -1.9933e-01, -1.1652e-01,\n",
       "           -4.1377e-01, -1.3209e-02, -3.4407e-01, -1.0086e-01, -1.1360e-01,\n",
       "           -1.4843e-01, -4.5392e-02, -3.1658e-01, -3.8846e-01,  5.0376e-01,\n",
       "           -6.4914e-01, -3.8885e-01,  2.9723e-02, -3.3449e-01, -3.2829e-01,\n",
       "           -7.1681e-02, -4.5028e-01,  1.3533e-02, -1.1231e+00,  1.5659e-01,\n",
       "           -4.3681e-01, -4.2351e-01,  5.4015e-01, -3.9357e-01,  1.7929e-01,\n",
       "           -3.4703e-01, -6.7397e-01,  2.5763e-01, -6.6403e-01, -2.2837e-01,\n",
       "           -1.4321e-02,  1.9740e-02,  3.4193e-01, -1.2929e-01, -2.3985e-01,\n",
       "            2.0415e-02, -1.5707e-01,  3.7361e-02, -6.7199e-02,  1.6862e-01,\n",
       "           -2.8218e-01, -2.0148e-01,  2.4293e-01, -4.3422e-02, -2.9997e-01],\n",
       "          [-1.8792e-01, -1.0251e+00, -9.2443e-02, -1.5080e-01,  1.7872e-01,\n",
       "           -2.0921e+00, -2.1495e-02, -8.7256e-01, -7.0533e-02, -1.9163e-01,\n",
       "            1.8244e-01,  6.6720e-02, -7.1124e-01,  2.7921e-02,  3.6657e-02,\n",
       "           -6.7976e-02, -4.4834e-01, -2.2223e-01,  2.1590e-01,  3.0753e-01,\n",
       "            3.8197e-02, -9.9193e-02, -1.7008e+00, -5.1119e-01,  4.7795e-03,\n",
       "           -9.3614e-01, -2.3119e-01, -5.2752e-01, -2.3920e-01, -4.4227e-02,\n",
       "            2.7283e-01, -8.4864e-02,  2.1081e-01, -5.1884e-01, -1.6455e-01,\n",
       "           -2.5642e-01, -3.1818e-01, -7.5035e-02, -4.1888e-01, -6.5442e-02,\n",
       "           -7.3916e-01, -1.0273e+00,  3.4903e-01, -1.5828e-01, -3.6633e-01,\n",
       "           -1.9835e-01,  3.6244e-01, -5.4631e-01,  5.0783e-02, -2.3516e-01,\n",
       "            2.4837e-02, -2.3874e-01, -1.9847e-02,  1.6276e-02, -1.4391e-01,\n",
       "           -4.9569e-01,  2.1896e-01, -1.7850e-01,  1.0671e-01, -7.9114e-02,\n",
       "           -5.3589e-01,  1.5586e-01, -9.4912e-02,  3.8007e-02, -4.3774e-02,\n",
       "           -3.2375e-01, -4.9601e-02, -6.4769e-01,  2.6509e-01,  2.0710e-01,\n",
       "           -2.6139e-01,  1.7170e-01, -7.3184e-02,  8.9901e-03, -1.0837e-01,\n",
       "            4.9448e-02,  3.2715e-01, -5.5423e-02, -1.7441e-01, -1.2594e-01,\n",
       "            2.5282e-01, -7.1272e-02, -7.4291e-02, -8.1177e-01,  3.9703e-02,\n",
       "           -1.1339e-01,  1.7565e-01, -7.6096e-01, -9.4393e-03, -1.7758e+00,\n",
       "            3.2579e-01,  1.4180e-02, -2.0765e-01, -1.8499e-01,  7.2908e-02,\n",
       "           -6.8503e-02, -1.2758e-01,  1.1624e-01, -1.0188e+00, -3.6997e-01],\n",
       "          [ 1.0558e-01, -4.6723e-02,  5.4330e-02, -1.2349e-01, -1.7304e-01,\n",
       "           -7.3462e-02,  1.7601e-01, -1.3936e-01,  2.3418e-01,  1.0641e-01,\n",
       "            2.2205e-02, -2.1167e-01, -1.9340e-01, -4.1951e-01, -4.8708e-02,\n",
       "           -7.3958e-02, -1.9952e-01, -6.1084e-02, -1.0720e+00,  4.0519e-02,\n",
       "           -4.4086e-02, -1.5214e-01,  7.9040e-02,  1.3417e-01, -1.2778e-01,\n",
       "           -4.2616e-01,  3.2298e-02, -1.5435e-01, -2.3823e-02,  2.8864e-01,\n",
       "           -8.6193e-01, -5.9806e-02, -1.5789e-01, -3.5157e-01, -3.7494e-01,\n",
       "           -2.2245e-01, -2.9846e-01, -4.2247e-01, -4.6270e-01,  4.1094e-03,\n",
       "           -6.6289e-02,  3.4200e-01, -1.3282e+00, -2.7350e-01, -3.5379e-01,\n",
       "           -1.0624e-01, -7.2010e-02, -2.3563e-02, -1.3702e-01, -5.0292e-01,\n",
       "            1.2657e-01, -1.2739e-01, -4.0602e-01, -2.8471e-02, -6.1669e-02,\n",
       "           -4.3807e-01, -4.0102e-01,  1.7892e-01,  1.4954e-01, -3.1701e-01,\n",
       "           -1.4588e-01, -2.7917e-01,  1.5317e-02, -5.9267e-01, -3.8194e-01,\n",
       "           -3.1292e-01, -1.3627e-01, -1.8550e-01, -4.8753e-01, -7.2099e-03,\n",
       "           -1.1859e-01,  9.0752e-02, -7.9611e-02, -2.1995e-01, -5.3523e-02,\n",
       "           -3.0034e-02, -2.3881e-01,  4.7361e-02, -2.4927e-01, -1.9456e-01,\n",
       "            1.2167e-01,  8.6343e-02, -6.5146e-01, -2.2935e-01, -2.2037e-01,\n",
       "           -8.1086e-02, -2.1011e-01, -9.7345e-02, -8.2325e-02,  1.0578e-02,\n",
       "           -3.2542e-01, -2.0009e-01,  1.1037e-01,  5.7267e-02, -2.1954e-01,\n",
       "            1.3760e-02, -3.6214e-01, -2.4725e-01, -8.1495e-02,  1.0931e-01],\n",
       "          [ 2.0602e-01, -1.7993e-01, -2.1672e-01, -1.7571e-01,  3.5937e-03,\n",
       "           -3.0528e-02,  4.5630e-03, -8.4187e-01, -2.5350e-01, -1.8580e-01,\n",
       "           -6.2938e-01, -1.3867e-01, -7.2668e-01, -1.4304e-01, -2.8612e-01,\n",
       "           -1.1384e-01, -9.6498e-02, -2.4477e-01, -7.2105e-02, -8.7096e-03,\n",
       "           -1.9113e-02, -1.1035e-01, -4.3928e-01, -3.3946e-01, -1.2036e-01,\n",
       "           -1.0952e+00, -6.4438e-02, -1.2411e-01, -2.6079e-01,  1.8052e-01,\n",
       "           -3.1048e-01,  1.5079e-01,  1.1483e-01, -4.9352e-01, -3.0883e-02,\n",
       "           -2.8338e-01, -1.5257e-01, -7.6715e-02, -1.6421e-01, -5.7964e-01,\n",
       "           -9.1110e-01, -3.1874e-01, -1.3489e-01,  3.0912e-02, -1.0941e+00,\n",
       "            9.2852e-02, -3.6335e-02,  8.3797e-02, -6.1315e-01,  3.3780e-01,\n",
       "           -2.4465e-02,  1.7270e-01,  1.5742e-01, -1.9499e-01, -4.6722e-03,\n",
       "            4.0978e-01, -3.3715e-01, -7.1153e-02, -1.4368e-01,  1.8650e-01,\n",
       "           -2.1458e-01, -1.2561e-01,  2.4506e-01, -3.5733e-02, -1.6627e-01,\n",
       "            2.5335e-01, -7.7035e-02, -1.5503e-01, -2.6592e-01, -2.5606e-01,\n",
       "           -2.6676e-01, -8.5027e-01, -1.0859e-01, -8.4935e-01, -1.1919e-01,\n",
       "           -2.4221e-01, -6.5546e-02,  2.4534e-01, -1.8538e-01, -1.3475e-01,\n",
       "           -2.6759e-01, -3.6080e-01, -7.6666e-01, -6.2897e-01,  1.5867e-02,\n",
       "           -1.3331e-01, -2.0846e-01, -7.1097e-01, -8.8097e-02, -2.5699e-01,\n",
       "           -7.0062e-02, -6.4404e-02, -1.8602e-01, -1.5895e-02, -6.3358e-02,\n",
       "            1.2192e-01, -1.6669e-01,  7.2450e-02, -4.7815e-01, -6.9946e-02],\n",
       "          [-3.7311e-01, -7.0713e-02, -1.8200e-01,  4.7422e-02,  1.2135e-02,\n",
       "            3.0428e-01, -1.0949e-01,  8.3047e-02, -2.7602e-01,  1.0143e-01,\n",
       "           -2.0098e-01, -2.6085e-01, -2.3680e-01, -4.1539e-01, -1.0322e-01,\n",
       "           -1.3162e-01, -5.5419e-01,  2.8592e-01, -7.6812e-01, -2.6780e-01,\n",
       "           -1.4264e-02, -1.6339e-02,  8.3398e-02, -5.8475e-02, -6.3379e-03,\n",
       "           -4.2380e-01, -2.8968e-01, -3.2613e-02, -4.8939e-01,  1.0159e-01,\n",
       "           -2.9346e-01, -1.4446e-01, -3.2486e-01, -3.9905e-01, -4.4055e-01,\n",
       "            2.5336e-01, -7.9185e-01,  3.8628e-03, -3.6219e-01, -9.8159e-02,\n",
       "           -6.3858e-02,  3.6231e-02, -3.2780e-01,  6.4253e-03, -9.4226e-01,\n",
       "           -2.1279e-03,  3.3508e-03,  3.9729e-01,  5.6649e-03, -6.0587e-02,\n",
       "            4.5519e-02, -8.3974e-02,  5.6569e-02, -7.8703e-01,  8.1210e-02,\n",
       "           -6.9365e-01, -4.5203e-02, -2.6360e-01, -1.8597e-01,  4.6937e-02,\n",
       "           -2.2022e-01, -2.2836e-01, -5.1137e-02,  1.2421e-02, -6.6884e-01,\n",
       "           -3.5117e-01, -8.4857e-02,  1.9417e-01, -1.8443e-01, -1.3235e-01,\n",
       "           -1.0178e+00, -7.3460e-01,  1.0199e-02, -3.9099e-01,  1.4836e-01,\n",
       "           -2.1630e-01, -6.4994e-01, -5.9403e-01, -1.9310e-01, -7.7036e-02,\n",
       "           -2.2609e-01, -1.1396e-01, -3.4838e-01,  3.2765e-02, -3.2125e-02,\n",
       "           -7.2280e-02, -2.3342e-01, -2.9720e-01, -9.2483e-02, -4.3736e-01,\n",
       "           -2.3614e-02, -7.5575e-02,  5.6542e-02, -1.4201e-02, -1.5247e-01,\n",
       "           -1.3132e-01,  2.1693e-01,  3.1595e-02, -7.2942e-01,  2.6076e-01]],\n",
       "         requires_grad=True)),\n",
       " ('bias',\n",
       "  Parameter containing:\n",
       "  tensor([-0.2090, -1.1224,  0.0354, -0.4175,  0.0208,  0.3659,  0.2342, -0.4791,\n",
       "           0.8539,  0.3983], requires_grad=True))]"
      ]
     },
     "execution_count": 7,
     "metadata": {},
     "output_type": "execute_result"
    }
   ],
   "source": [
    "list(module3.named_parameters())"
   ]
  },
  {
   "cell_type": "code",
   "execution_count": 8,
   "metadata": {},
   "outputs": [
    {
     "data": {
      "image/png": "[encoded data removed]",
      "text/plain": [
       "<Figure size 640x480 with 1 Axes>"
      ]
     },
     "metadata": {},
     "output_type": "display_data"
    }
   ],
   "source": [
    "import matplotlib.pyplot as plt\n",
    "\n",
    "all_weights = []\n",
    "for name, param in module3.named_parameters():\n",
    "    if 'weight' in name:\n",
    "        all_weights.extend(param.detach().numpy().flatten())\n",
    "        \n",
    "plt.hist(all_weights, bins=100, alpha=1)\n",
    "plt.title('Weight Distribution (Before)')\n",
    "plt.xlabel('Weight value')\n",
    "plt.ylabel('Frequency')\n",
    "plt.grid(True, axis='y')\n",
    "plt.show()"
   ]
  },
  {
   "cell_type": "code",
   "execution_count": 9,
   "metadata": {},
   "outputs": [
    {
     "data": {
      "text/plain": [
       "Linear(in_features=100, out_features=10, bias=True)"
      ]
     },
     "execution_count": 9,
     "metadata": {},
     "output_type": "execute_result"
    }
   ],
   "source": [
    "prune.l1_unstructured(module3, name=\"weight\", amount=0.3)"
   ]
  },
  {
   "cell_type": "code",
   "execution_count": 10,
   "metadata": {},
   "outputs": [
    {
     "data": {
      "text/plain": [
       "dict_keys(['bias', 'weight_orig'])"
      ]
     },
     "execution_count": 10,
     "metadata": {},
     "output_type": "execute_result"
    }
   ],
   "source": [
    "dict(module3.named_parameters()).keys()"
   ]
  },
  {
   "cell_type": "code",
   "execution_count": 11,
   "metadata": {},
   "outputs": [
    {
     "name": "stdout",
     "output_type": "stream",
     "text": [
      "[('weight_mask', tensor([[1., 1., 0., 1., 0., 1., 0., 1., 0., 1., 0., 0., 1., 1., 0., 0., 1., 1.,\n",
      "         1., 1., 0., 0., 1., 1., 0., 1., 0., 1., 0., 1., 1., 0., 1., 0., 1., 1.,\n",
      "         0., 1., 1., 1., 1., 0., 1., 1., 1., 0., 0., 1., 1., 1., 1., 0., 1., 0.,\n",
      "         1., 1., 1., 1., 0., 1., 0., 1., 1., 1., 1., 1., 0., 1., 1., 1., 0., 1.,\n",
      "         1., 1., 1., 1., 0., 0., 1., 1., 1., 1., 1., 1., 1., 0., 1., 1., 0., 1.,\n",
      "         1., 1., 1., 1., 1., 1., 0., 1., 1., 0.],\n",
      "        [1., 1., 0., 1., 1., 1., 0., 0., 1., 1., 1., 0., 1., 0., 1., 1., 1., 1.,\n",
      "         0., 0., 0., 1., 1., 1., 0., 1., 1., 1., 1., 1., 1., 1., 1., 1., 1., 1.,\n",
      "         1., 1., 0., 1., 1., 0., 0., 1., 0., 0., 1., 0., 1., 1., 1., 1., 1., 1.,\n",
      "         0., 1., 0., 1., 1., 1., 1., 1., 1., 0., 0., 1., 0., 1., 1., 1., 1., 1.,\n",
      "         1., 1., 1., 1., 1., 1., 1., 1., 1., 1., 1., 1., 1., 0., 0., 1., 1., 1.,\n",
      "         1., 1., 1., 0., 1., 1., 1., 1., 0., 1.],\n",
      "        [1., 1., 1., 1., 0., 1., 1., 1., 1., 1., 1., 0., 1., 1., 1., 1., 1., 1.,\n",
      "         1., 0., 1., 0., 1., 1., 0., 1., 1., 1., 1., 0., 1., 1., 1., 1., 0., 1.,\n",
      "         1., 0., 0., 1., 1., 1., 1., 0., 1., 1., 0., 1., 0., 1., 0., 0., 1., 1.,\n",
      "         0., 0., 0., 1., 0., 0., 1., 0., 1., 1., 1., 0., 0., 1., 1., 0., 1., 1.,\n",
      "         0., 0., 1., 1., 1., 1., 0., 0., 0., 1., 1., 1., 1., 1., 1., 1., 0., 1.,\n",
      "         1., 0., 0., 1., 1., 1., 1., 0., 1., 1.],\n",
      "        [1., 1., 0., 1., 1., 0., 1., 1., 0., 1., 1., 1., 1., 0., 1., 1., 1., 0.,\n",
      "         1., 0., 1., 0., 1., 1., 0., 1., 1., 1., 1., 1., 1., 0., 1., 1., 1., 1.,\n",
      "         1., 1., 0., 1., 1., 0., 1., 0., 1., 1., 1., 1., 0., 0., 0., 1., 0., 0.,\n",
      "         1., 1., 1., 1., 0., 0., 1., 1., 1., 0., 0., 1., 1., 1., 1., 1., 0., 1.,\n",
      "         1., 1., 1., 0., 1., 1., 1., 1., 1., 1., 1., 1., 0., 0., 1., 1., 1., 1.,\n",
      "         0., 0., 0., 1., 0., 1., 1., 0., 1., 1.],\n",
      "        [1., 0., 1., 1., 1., 0., 0., 0., 1., 1., 1., 1., 1., 1., 1., 1., 1., 0.,\n",
      "         0., 1., 0., 1., 1., 0., 0., 1., 0., 1., 0., 1., 1., 0., 1., 1., 1., 0.,\n",
      "         1., 1., 0., 1., 1., 0., 0., 1., 1., 1., 0., 1., 1., 1., 1., 1., 1., 1.,\n",
      "         0., 1., 1., 1., 0., 1., 0., 0., 0., 1., 0., 1., 1., 1., 0., 0., 1., 0.,\n",
      "         1., 1., 1., 0., 1., 1., 1., 1., 1., 1., 1., 1., 1., 1., 1., 0., 0., 1.,\n",
      "         1., 0., 0., 0., 1., 0., 0., 1., 1., 1.],\n",
      "        [1., 1., 0., 1., 1., 1., 1., 1., 1., 1., 1., 0., 1., 1., 1., 1., 0., 0.,\n",
      "         1., 0., 1., 0., 1., 1., 1., 1., 1., 1., 0., 1., 1., 1., 1., 1., 0., 1.,\n",
      "         1., 1., 1., 0., 1., 1., 0., 1., 1., 1., 1., 1., 1., 1., 0., 1., 1., 1.,\n",
      "         1., 1., 0., 1., 1., 1., 1., 0., 1., 1., 1., 1., 1., 0., 1., 1., 0., 1.,\n",
      "         0., 1., 1., 1., 1., 1., 1., 1., 1., 1., 1., 1., 1., 0., 0., 1., 1., 1.,\n",
      "         0., 1., 0., 0., 1., 1., 1., 1., 0., 1.],\n",
      "        [1., 1., 1., 1., 1., 1., 0., 1., 0., 1., 1., 0., 1., 0., 0., 0., 1., 1.,\n",
      "         1., 1., 0., 1., 1., 1., 0., 1., 1., 1., 1., 0., 1., 0., 1., 1., 1., 1.,\n",
      "         1., 0., 1., 0., 1., 1., 1., 1., 1., 1., 1., 1., 0., 1., 0., 1., 0., 0.,\n",
      "         1., 1., 1., 1., 1., 0., 1., 1., 1., 0., 0., 1., 0., 1., 1., 1., 1., 1.,\n",
      "         0., 0., 1., 0., 1., 0., 1., 1., 1., 0., 0., 1., 0., 1., 1., 1., 0., 1.,\n",
      "         1., 0., 1., 1., 0., 0., 1., 1., 1., 1.],\n",
      "        [1., 0., 0., 1., 1., 0., 1., 1., 1., 1., 0., 1., 1., 1., 0., 0., 1., 0.,\n",
      "         1., 0., 0., 1., 0., 1., 1., 1., 0., 1., 0., 1., 1., 0., 1., 1., 1., 1.,\n",
      "         1., 1., 1., 0., 0., 1., 1., 1., 1., 1., 0., 0., 1., 1., 1., 1., 1., 0.,\n",
      "         0., 1., 1., 1., 1., 1., 1., 1., 0., 1., 1., 1., 1., 1., 1., 0., 1., 0.,\n",
      "         0., 1., 0., 0., 1., 0., 1., 1., 1., 0., 1., 1., 1., 0., 1., 1., 0., 0.,\n",
      "         1., 1., 1., 0., 1., 0., 1., 1., 0., 1.],\n",
      "        [1., 1., 1., 1., 0., 0., 0., 1., 1., 1., 1., 1., 1., 1., 1., 1., 1., 1.,\n",
      "         0., 0., 0., 1., 1., 1., 1., 1., 0., 1., 1., 1., 1., 1., 1., 1., 0., 1.,\n",
      "         1., 0., 1., 1., 1., 1., 1., 0., 1., 1., 0., 0., 1., 1., 0., 1., 1., 1.,\n",
      "         0., 1., 1., 0., 1., 1., 1., 1., 1., 0., 1., 1., 0., 1., 1., 1., 1., 1.,\n",
      "         1., 1., 1., 1., 0., 1., 1., 1., 1., 1., 1., 1., 0., 1., 1., 1., 0., 1.,\n",
      "         0., 0., 1., 0., 0., 1., 1., 0., 1., 0.],\n",
      "        [1., 0., 1., 0., 0., 1., 1., 0., 1., 1., 1., 1., 1., 1., 1., 1., 1., 1.,\n",
      "         1., 1., 0., 0., 0., 0., 0., 1., 1., 0., 1., 1., 1., 1., 1., 1., 1., 1.,\n",
      "         1., 0., 1., 1., 0., 0., 1., 0., 1., 0., 0., 1., 0., 0., 0., 0., 0., 1.,\n",
      "         0., 1., 0., 1., 1., 0., 1., 1., 0., 0., 1., 1., 0., 1., 1., 1., 1., 1.,\n",
      "         0., 1., 1., 1., 1., 1., 1., 0., 1., 1., 1., 0., 0., 0., 1., 1., 1., 1.,\n",
      "         0., 0., 0., 0., 1., 1., 1., 0., 1., 1.]]))]\n"
     ]
    }
   ],
   "source": [
    "print(list(module3.named_buffers()))"
   ]
  },
  {
   "cell_type": "code",
   "execution_count": 12,
   "metadata": {},
   "outputs": [
    {
     "name": "stdout",
     "output_type": "stream",
     "text": [
      "tensor([[-0.5516, -0.5208, -0.0000, -0.1892, -0.0000, -0.0974,  0.0000,  0.1544,\n",
      "          0.0000, -0.1846, -0.0000, -0.0000, -0.1282, -0.3082,  0.0000, -0.0000,\n",
      "         -0.4769, -0.2647, -0.2041, -0.3416,  0.0000,  0.0000, -0.4186, -0.5085,\n",
      "          0.0000, -0.7985,  0.0000, -0.3542, -0.0000, -0.1658,  0.3421, -0.0000,\n",
      "         -0.3736,  0.0000, -0.2153, -0.2703, -0.0000,  0.1649, -0.3418, -0.2934,\n",
      "         -0.3780, -0.0000,  0.1036, -0.1411, -0.4219,  0.0000, -0.0000, -0.1361,\n",
      "         -0.2267, -0.2382,  0.0935,  0.0000, -0.1465, -0.0000, -0.1332,  0.1530,\n",
      "         -0.2523, -0.4312, -0.0000, -0.1587, -0.0000, -0.1385, -0.2077,  0.1928,\n",
      "         -0.1749, -0.3068, -0.0000, -0.4531, -0.1957, -0.1733,  0.0000, -0.2054,\n",
      "          0.2451, -0.2008, -0.5657, -0.1480, -0.0000, -0.0000, -0.1606, -0.1736,\n",
      "         -0.2861,  0.5435, -0.5585, -0.2927,  0.2259, -0.0000, -0.2483, -0.3209,\n",
      "         -0.0000, -0.7269, -0.4702,  0.3666,  0.1238,  0.1011,  0.1744, -0.1971,\n",
      "          0.0000, -0.5034, -1.4418,  0.0000],\n",
      "        [-0.4577,  0.1628, -0.0000, -0.1240,  0.3009, -0.1691, -0.0000,  0.0000,\n",
      "         -0.4592, -0.4786, -0.1570, -0.0000, -0.1237, -0.0000, -0.6403,  0.1169,\n",
      "          0.2187, -0.1500, -0.0000, -0.0000,  0.0000, -0.2606, -0.5528,  0.2815,\n",
      "         -0.0000, -0.5482, -0.1058, -0.1223, -0.2811, -0.2482, -0.3472, -0.4432,\n",
      "          0.1668, -0.6553, -0.6437, -0.4307, -0.7680, -0.1704,  0.0000, -0.6083,\n",
      "         -0.7302, -0.0000, -0.0000, -0.1026,  0.0000,  0.0000, -0.3437,  0.0000,\n",
      "         -0.6572,  0.4817, -0.2314, -0.1490, -0.3285,  0.0982,  0.0000, -1.3831,\n",
      "         -0.0000,  0.2365, -0.3936, -0.1084, -0.3096, -0.9333, -0.1616, -0.0000,\n",
      "          0.0000, -0.6350,  0.0000, -0.3098, -0.1841,  0.1366, -0.2731, -0.9349,\n",
      "          0.2433, -0.5795,  0.1933, -0.4525,  0.0957, -0.5631, -0.2429, -0.3273,\n",
      "         -0.6909, -0.4345, -0.7917, -1.0383, -0.1127,  0.0000, -0.0000,  0.4773,\n",
      "         -0.5563, -0.5291, -0.3060, -0.4239, -0.2775, -0.0000, -0.1875,  0.2569,\n",
      "          0.1882, -0.2187, -0.0000, -0.3698],\n",
      "        [-0.1932, -0.4500, -0.1985, -0.1326, -0.0000, -0.5492,  0.1066, -0.4678,\n",
      "          0.1713, -0.1882,  0.2641,  0.0000, -0.7590,  0.1093, -0.1159, -0.1960,\n",
      "         -0.1805, -0.2190, -0.1831,  0.0000,  0.1292,  0.0000, -0.2269, -0.4063,\n",
      "          0.0000, -0.8494,  0.3423, -0.2097, -0.5201, -0.0000, -0.1554,  0.2681,\n",
      "          0.1486, -0.3483, -0.0000, -0.2768, -0.2842,  0.0000,  0.0000, -0.7263,\n",
      "         -0.1840, -0.1719, -0.2002, -0.0000, -0.8369,  0.1361,  0.0000, -0.1022,\n",
      "          0.0000, -0.2243,  0.0000, -0.0000,  0.1932,  0.2291, -0.0000, -0.0000,\n",
      "         -0.0000,  0.1860,  0.0000, -0.0000, -0.3181, -0.0000, -0.2421,  0.2202,\n",
      "         -0.5157,  0.0000, -0.0000, -0.4602, -0.2844, -0.0000, -0.5838,  0.3316,\n",
      "         -0.0000, -0.0000, -0.2430, -0.5641,  0.1331, -0.2550, -0.0000,  0.0000,\n",
      "         -0.0000, -0.3978, -0.5691, -0.5158,  0.1240, -0.2344, -0.3939, -0.8788,\n",
      "         -0.0000, -0.3303,  0.1114, -0.0000,  0.0000, -0.1115,  0.1228, -0.2399,\n",
      "          0.1174, -0.0000, -0.2432, -0.4806],\n",
      "        [-0.4420,  0.1189,  0.0000, -0.2115, -0.4698, -0.0000, -0.3738, -0.5089,\n",
      "          0.0000, -0.4628, -0.2894,  0.0913, -0.6990,  0.0000,  0.0971, -0.1340,\n",
      "         -0.8866, -0.0000, -0.2830, -0.0000, -0.1286, -0.0000,  0.1968, -0.7435,\n",
      "          0.0000, -1.1475, -0.1865,  0.2235, -0.1205, -0.2307, -0.5705, -0.0000,\n",
      "         -0.2703, -0.4506, -0.4007, -0.3572, -0.3727,  0.1034, -0.0000, -0.1975,\n",
      "         -0.8230,  0.0000, -0.2656,  0.0000, -0.7174, -0.2638, -0.2172, -0.1431,\n",
      "         -0.0000,  0.0000,  0.0000, -0.0933, -0.0000,  0.0000, -0.1566, -0.5873,\n",
      "         -0.1167,  0.1279,  0.0000,  0.0000, -0.4345, -0.7317, -0.2264, -0.0000,\n",
      "          0.0000, -0.1093,  0.0983, -0.2063, -0.3169, -0.0980,  0.0000,  0.2137,\n",
      "         -0.1323, -0.4838, -0.0921, -0.0000, -0.2224,  0.1039, -0.1169,  0.1868,\n",
      "         -0.4250, -0.3280,  0.4440, -0.5807, -0.0000, -0.0000, -0.1720, -0.2809,\n",
      "         -0.1182, -0.1801, -0.0000,  0.0000, -0.0000, -0.1180, -0.0000, -0.2555,\n",
      "         -0.1645, -0.0000, -0.3650,  0.1176],\n",
      "        [-0.1014, -0.0000,  0.2582,  0.3328, -0.2289,  0.0000, -0.0000,  0.0000,\n",
      "          0.1649, -0.3756, -0.3158, -0.1072, -0.4214,  0.1555, -0.3885, -0.1122,\n",
      "         -0.3699, -0.0000, -0.0000, -0.2372, -0.0000,  0.3018,  0.1810,  0.0000,\n",
      "         -0.0000, -0.3109,  0.0000, -0.1903,  0.0000, -0.2143, -0.7819, -0.0000,\n",
      "         -0.1079, -1.2404, -0.4677, -0.0000, -0.1209,  0.1891,  0.0000, -0.2949,\n",
      "         -0.2395,  0.0000, -0.0000, -0.0985, -0.6834,  0.2563,  0.0000, -0.1483,\n",
      "         -0.6311, -0.2825,  0.0969, -0.2179, -0.1170,  0.1711, -0.0000, -0.3935,\n",
      "          0.1418, -0.4818, -0.0000, -0.2034, -0.0000, -0.0000, -0.0000,  0.3617,\n",
      "          0.0000, -0.6987, -0.2757,  0.1291, -0.0000,  0.0000, -0.7309, -0.0000,\n",
      "         -0.1148, -0.4845,  0.1165, -0.0000, -0.5630, -0.3077, -0.4696, -0.3724,\n",
      "         -0.8939, -0.1204, -0.2907, -0.3000, -0.1021,  0.1491, -0.2040, -0.0000,\n",
      "         -0.0000, -0.3569, -0.0958, -0.0000,  0.0000,  0.0000, -0.2559, -0.0000,\n",
      "          0.0000, -0.9214, -0.7105,  0.0994],\n",
      "        [ 0.2889, -0.1009,  0.0000, -0.1774,  0.1282, -0.1149,  0.1452, -0.4617,\n",
      "         -0.2497,  0.1583, -0.1841,  0.0000, -0.4054,  0.1422,  0.2084, -0.1635,\n",
      "          0.0000,  0.0000, -0.1126,  0.0000, -0.1530,  0.0000, -0.1370, -0.5018,\n",
      "          0.1584, -1.0424, -0.3827,  0.1224,  0.0000, -0.2222, -0.6596, -0.1626,\n",
      "         -0.0945, -0.1989,  0.0000, -0.1681,  0.1169,  0.2063, -0.1487,  0.0000,\n",
      "         -0.4652, -0.1534, -0.0000, -0.4224, -1.0334, -0.3366, -0.1376,  0.1751,\n",
      "         -0.6138, -0.4567, -0.0000, -0.2824,  0.2354, -0.1993, -0.1165, -0.4138,\n",
      "         -0.0000, -0.3441, -0.1009, -0.1136, -0.1484, -0.0000, -0.3166, -0.3885,\n",
      "          0.5038, -0.6491, -0.3888,  0.0000, -0.3345, -0.3283, -0.0000, -0.4503,\n",
      "          0.0000, -1.1231,  0.1566, -0.4368, -0.4235,  0.5401, -0.3936,  0.1793,\n",
      "         -0.3470, -0.6740,  0.2576, -0.6640, -0.2284, -0.0000,  0.0000,  0.3419,\n",
      "         -0.1293, -0.2399,  0.0000, -0.1571,  0.0000, -0.0000,  0.1686, -0.2822,\n",
      "         -0.2015,  0.2429, -0.0000, -0.3000],\n",
      "        [-0.1879, -1.0251, -0.0924, -0.1508,  0.1787, -2.0921, -0.0000, -0.8726,\n",
      "         -0.0000, -0.1916,  0.1824,  0.0000, -0.7112,  0.0000,  0.0000, -0.0000,\n",
      "         -0.4483, -0.2222,  0.2159,  0.3075,  0.0000, -0.0992, -1.7008, -0.5112,\n",
      "          0.0000, -0.9361, -0.2312, -0.5275, -0.2392, -0.0000,  0.2728, -0.0000,\n",
      "          0.2108, -0.5188, -0.1646, -0.2564, -0.3182, -0.0000, -0.4189, -0.0000,\n",
      "         -0.7392, -1.0273,  0.3490, -0.1583, -0.3663, -0.1983,  0.3624, -0.5463,\n",
      "          0.0000, -0.2352,  0.0000, -0.2387, -0.0000,  0.0000, -0.1439, -0.4957,\n",
      "          0.2190, -0.1785,  0.1067, -0.0000, -0.5359,  0.1559, -0.0949,  0.0000,\n",
      "         -0.0000, -0.3237, -0.0000, -0.6477,  0.2651,  0.2071, -0.2614,  0.1717,\n",
      "         -0.0000,  0.0000, -0.1084,  0.0000,  0.3272, -0.0000, -0.1744, -0.1259,\n",
      "          0.2528, -0.0000, -0.0000, -0.8118,  0.0000, -0.1134,  0.1757, -0.7610,\n",
      "         -0.0000, -1.7758,  0.3258,  0.0000, -0.2077, -0.1850,  0.0000, -0.0000,\n",
      "         -0.1276,  0.1162, -1.0188, -0.3700],\n",
      "        [ 0.1056, -0.0000,  0.0000, -0.1235, -0.1730, -0.0000,  0.1760, -0.1394,\n",
      "          0.2342,  0.1064,  0.0000, -0.2117, -0.1934, -0.4195, -0.0000, -0.0000,\n",
      "         -0.1995, -0.0000, -1.0720,  0.0000, -0.0000, -0.1521,  0.0000,  0.1342,\n",
      "         -0.1278, -0.4262,  0.0000, -0.1543, -0.0000,  0.2886, -0.8619, -0.0000,\n",
      "         -0.1579, -0.3516, -0.3749, -0.2224, -0.2985, -0.4225, -0.4627,  0.0000,\n",
      "         -0.0000,  0.3420, -1.3282, -0.2735, -0.3538, -0.1062, -0.0000, -0.0000,\n",
      "         -0.1370, -0.5029,  0.1266, -0.1274, -0.4060, -0.0000, -0.0000, -0.4381,\n",
      "         -0.4010,  0.1789,  0.1495, -0.3170, -0.1459, -0.2792,  0.0000, -0.5927,\n",
      "         -0.3819, -0.3129, -0.1363, -0.1855, -0.4875, -0.0000, -0.1186,  0.0000,\n",
      "         -0.0000, -0.2199, -0.0000, -0.0000, -0.2388,  0.0000, -0.2493, -0.1946,\n",
      "          0.1217,  0.0000, -0.6515, -0.2294, -0.2204, -0.0000, -0.2101, -0.0973,\n",
      "         -0.0000,  0.0000, -0.3254, -0.2001,  0.1104,  0.0000, -0.2195,  0.0000,\n",
      "         -0.3621, -0.2473, -0.0000,  0.1093],\n",
      "        [ 0.2060, -0.1799, -0.2167, -0.1757,  0.0000, -0.0000,  0.0000, -0.8419,\n",
      "         -0.2535, -0.1858, -0.6294, -0.1387, -0.7267, -0.1430, -0.2861, -0.1138,\n",
      "         -0.0965, -0.2448, -0.0000, -0.0000, -0.0000, -0.1103, -0.4393, -0.3395,\n",
      "         -0.1204, -1.0952, -0.0000, -0.1241, -0.2608,  0.1805, -0.3105,  0.1508,\n",
      "          0.1148, -0.4935, -0.0000, -0.2834, -0.1526, -0.0000, -0.1642, -0.5796,\n",
      "         -0.9111, -0.3187, -0.1349,  0.0000, -1.0941,  0.0929, -0.0000,  0.0000,\n",
      "         -0.6132,  0.3378, -0.0000,  0.1727,  0.1574, -0.1950, -0.0000,  0.4098,\n",
      "         -0.3371, -0.0000, -0.1437,  0.1865, -0.2146, -0.1256,  0.2451, -0.0000,\n",
      "         -0.1663,  0.2534, -0.0000, -0.1550, -0.2659, -0.2561, -0.2668, -0.8503,\n",
      "         -0.1086, -0.8494, -0.1192, -0.2422, -0.0000,  0.2453, -0.1854, -0.1347,\n",
      "         -0.2676, -0.3608, -0.7667, -0.6290,  0.0000, -0.1333, -0.2085, -0.7110,\n",
      "         -0.0000, -0.2570, -0.0000, -0.0000, -0.1860, -0.0000, -0.0000,  0.1219,\n",
      "         -0.1667,  0.0000, -0.4781, -0.0000],\n",
      "        [-0.3731, -0.0000, -0.1820,  0.0000,  0.0000,  0.3043, -0.1095,  0.0000,\n",
      "         -0.2760,  0.1014, -0.2010, -0.2609, -0.2368, -0.4154, -0.1032, -0.1316,\n",
      "         -0.5542,  0.2859, -0.7681, -0.2678, -0.0000, -0.0000,  0.0000, -0.0000,\n",
      "         -0.0000, -0.4238, -0.2897, -0.0000, -0.4894,  0.1016, -0.2935, -0.1445,\n",
      "         -0.3249, -0.3991, -0.4406,  0.2534, -0.7919,  0.0000, -0.3622, -0.0982,\n",
      "         -0.0000,  0.0000, -0.3278,  0.0000, -0.9423, -0.0000,  0.0000,  0.3973,\n",
      "          0.0000, -0.0000,  0.0000, -0.0000,  0.0000, -0.7870,  0.0000, -0.6936,\n",
      "         -0.0000, -0.2636, -0.1860,  0.0000, -0.2202, -0.2284, -0.0000,  0.0000,\n",
      "         -0.6688, -0.3512, -0.0000,  0.1942, -0.1844, -0.1324, -1.0178, -0.7346,\n",
      "          0.0000, -0.3910,  0.1484, -0.2163, -0.6499, -0.5940, -0.1931, -0.0000,\n",
      "         -0.2261, -0.1140, -0.3484,  0.0000, -0.0000, -0.0000, -0.2334, -0.2972,\n",
      "         -0.0925, -0.4374, -0.0000, -0.0000,  0.0000, -0.0000, -0.1525, -0.1313,\n",
      "          0.2169,  0.0000, -0.7294,  0.2608]], grad_fn=<MulBackward0>)\n"
     ]
    }
   ],
   "source": [
    "print(module3.weight)"
   ]
  },
  {
   "cell_type": "code",
   "execution_count": 13,
   "metadata": {},
   "outputs": [
    {
     "data": {
      "text/plain": [
       "Linear(in_features=100, out_features=10, bias=True)"
      ]
     },
     "execution_count": 13,
     "metadata": {},
     "output_type": "execute_result"
    }
   ],
   "source": [
    "prune.remove(module3, 'weight')"
   ]
  },
  {
   "cell_type": "code",
   "execution_count": 14,
   "metadata": {},
   "outputs": [
    {
     "data": {
      "image/png": "[encoded data removed]",
      "text/plain": [
       "<Figure size 640x480 with 1 Axes>"
      ]
     },
     "metadata": {},
     "output_type": "display_data"
    }
   ],
   "source": [
    "all_weights = []\n",
    "for name, param in module3.named_parameters():\n",
    "    if 'weight' in name:\n",
    "        all_weights.extend(param.detach().numpy().flatten())\n",
    "        \n",
    "plt.hist(all_weights, bins=100, alpha=1)\n",
    "plt.title('Weight Distribution (After)')\n",
    "plt.xlabel('Weight value')\n",
    "plt.ylabel('Frequency')\n",
    "plt.grid(True, axis='y')\n",
    "plt.show()"
   ]
  },
  {
   "cell_type": "code",
   "execution_count": 15,
   "metadata": {},
   "outputs": [
    {
     "name": "stdout",
     "output_type": "stream",
     "text": [
      "Sparsity in fc3.weight: 30.00%\n"
     ]
    }
   ],
   "source": [
    "print(\n",
    "    \"Sparsity in fc3.weight: {:.2f}%\".format(\n",
    "        100. * float(torch.sum(model.fc3.weight == 0))\n",
    "        / float(model.fc3.weight.nelement())\n",
    "    )\n",
    ")"
   ]
  },
  {
   "cell_type": "code",
   "execution_count": null,
   "metadata": {},
   "outputs": [],
   "source": []
  },
  {
   "cell_type": "markdown",
   "metadata": {},
   "source": [
    "#### global pruning"
   ]
  },
  {
   "cell_type": "code",
   "execution_count": 28,
   "metadata": {},
   "outputs": [],
   "source": [
    "model = torch.load(f'{folder_path}/{model_name}')"
   ]
  },
  {
   "cell_type": "code",
   "execution_count": 29,
   "metadata": {},
   "outputs": [
    {
     "data": {
      "text/plain": [
       "dict_keys(['fc1.weight', 'fc1.bias', 'fc2.weight', 'fc2.bias', 'fc3.weight', 'fc3.bias'])"
      ]
     },
     "execution_count": 29,
     "metadata": {},
     "output_type": "execute_result"
    }
   ],
   "source": [
    "dict(model.named_parameters()).keys()"
   ]
  },
  {
   "cell_type": "code",
   "execution_count": 30,
   "metadata": {},
   "outputs": [
    {
     "data": {
      "image/png": "[encoded data removed]",
      "text/plain": [
       "<Figure size 640x480 with 1 Axes>"
      ]
     },
     "metadata": {},
     "output_type": "display_data"
    }
   ],
   "source": [
    "all_weights = []\n",
    "for name, param in model.named_parameters():\n",
    "    if 'weight' in name:\n",
    "        all_weights.extend(param.detach().numpy().flatten())\n",
    "        \n",
    "plt.hist(all_weights, bins=100, alpha=1)\n",
    "plt.title('All Weight Distribution (Before)')\n",
    "plt.xlabel('Weight value')\n",
    "plt.ylabel('Frequency')\n",
    "plt.grid(True, axis='y')\n",
    "plt.show()"
   ]
  },
  {
   "cell_type": "code",
   "execution_count": 31,
   "metadata": {},
   "outputs": [],
   "source": [
    "# global pruning\n",
    "\n",
    "parameters_to_prune = (\n",
    "    (model.fc1, 'weight'),\n",
    "    (model.fc2, 'weight'),\n",
    "    (model.fc3, 'weight'),\n",
    ")\n",
    "\n",
    "prune.global_unstructured(parameters_to_prune, pruning_method=prune.L1Unstructured, amount= 0.3)"
   ]
  },
  {
   "cell_type": "code",
   "execution_count": 32,
   "metadata": {},
   "outputs": [
    {
     "data": {
      "text/plain": [
       "dict_keys(['fc1.bias', 'fc1.weight_orig', 'fc2.bias', 'fc2.weight_orig', 'fc3.bias', 'fc3.weight_orig'])"
      ]
     },
     "execution_count": 32,
     "metadata": {},
     "output_type": "execute_result"
    }
   ],
   "source": [
    "dict(model.named_parameters()).keys()"
   ]
  },
  {
   "cell_type": "code",
   "execution_count": 33,
   "metadata": {},
   "outputs": [
    {
     "name": "stdout",
     "output_type": "stream",
     "text": [
      "Mask for fc1: tensor([[0., 0., 0.,  ..., 0., 0., 1.],\n",
      "        [0., 0., 0.,  ..., 0., 0., 0.],\n",
      "        [0., 0., 0.,  ..., 1., 0., 1.],\n",
      "        ...,\n",
      "        [0., 1., 0.,  ..., 1., 0., 0.],\n",
      "        [0., 0., 1.,  ..., 0., 0., 0.],\n",
      "        [0., 0., 0.,  ..., 0., 0., 0.]])\n",
      "Mask for fc2: tensor([[1., 1., 1.,  ..., 1., 1., 1.],\n",
      "        [1., 0., 1.,  ..., 1., 0., 1.],\n",
      "        [0., 1., 1.,  ..., 1., 1., 1.],\n",
      "        ...,\n",
      "        [0., 1., 1.,  ..., 1., 1., 1.],\n",
      "        [1., 1., 1.,  ..., 0., 0., 1.],\n",
      "        [0., 1., 1.,  ..., 0., 1., 1.]])\n",
      "Mask for fc3: tensor([[1., 1., 1., 1., 1., 1., 0., 1., 0., 1., 1., 1., 1., 1., 0., 1., 1., 1.,\n",
      "         1., 1., 0., 1., 1., 1., 1., 1., 0., 1., 1., 1., 1., 1., 1., 0., 1., 1.,\n",
      "         1., 1., 1., 1., 1., 1., 1., 1., 1., 1., 1., 1., 1., 1., 1., 0., 1., 1.,\n",
      "         1., 1., 1., 1., 0., 1., 1., 1., 1., 1., 1., 1., 0., 1., 1., 1., 0., 1.,\n",
      "         1., 1., 1., 1., 0., 1., 1., 1., 1., 1., 1., 1., 1., 1., 1., 1., 1., 1.,\n",
      "         1., 1., 1., 1., 1., 1., 1., 1., 1., 0.],\n",
      "        [1., 1., 1., 1., 1., 1., 1., 1., 1., 1., 1., 0., 1., 1., 1., 1., 1., 1.,\n",
      "         1., 1., 1., 1., 1., 1., 0., 1., 1., 1., 1., 1., 1., 1., 1., 1., 1., 1.,\n",
      "         1., 1., 1., 1., 1., 1., 0., 1., 1., 1., 1., 1., 1., 1., 1., 1., 1., 1.,\n",
      "         0., 1., 1., 1., 1., 1., 1., 1., 1., 0., 0., 1., 1., 1., 1., 1., 1., 1.,\n",
      "         1., 1., 1., 1., 1., 1., 1., 1., 1., 1., 1., 1., 1., 0., 1., 1., 1., 1.,\n",
      "         1., 1., 1., 1., 1., 1., 1., 1., 1., 1.],\n",
      "        [1., 1., 1., 1., 1., 1., 1., 1., 1., 1., 1., 0., 1., 1., 1., 1., 1., 1.,\n",
      "         1., 1., 1., 1., 1., 1., 1., 1., 1., 1., 1., 1., 1., 1., 1., 1., 1., 1.,\n",
      "         1., 1., 1., 1., 1., 1., 1., 0., 1., 1., 0., 1., 0., 1., 0., 1., 1., 1.,\n",
      "         1., 1., 1., 1., 0., 1., 1., 1., 1., 1., 1., 0., 1., 1., 1., 0., 1., 1.,\n",
      "         0., 1., 1., 1., 1., 1., 1., 1., 0., 1., 1., 1., 1., 1., 1., 1., 0., 1.,\n",
      "         1., 0., 0., 1., 1., 1., 1., 1., 1., 1.],\n",
      "        [1., 1., 0., 1., 1., 0., 1., 1., 1., 1., 1., 1., 1., 1., 1., 1., 1., 1.,\n",
      "         1., 0., 1., 1., 1., 1., 1., 1., 1., 1., 1., 1., 1., 0., 1., 1., 1., 1.,\n",
      "         1., 1., 1., 1., 1., 0., 1., 1., 1., 1., 1., 1., 1., 1., 0., 1., 0., 1.,\n",
      "         1., 1., 1., 1., 0., 0., 1., 1., 1., 0., 1., 1., 1., 1., 1., 1., 1., 1.,\n",
      "         1., 1., 1., 1., 1., 1., 1., 1., 1., 1., 1., 1., 0., 1., 1., 1., 1., 1.,\n",
      "         1., 1., 0., 1., 0., 1., 1., 1., 1., 1.],\n",
      "        [1., 0., 1., 1., 1., 0., 0., 1., 1., 1., 1., 1., 1., 1., 1., 1., 1., 0.,\n",
      "         0., 1., 1., 1., 1., 1., 0., 1., 1., 1., 1., 1., 1., 1., 1., 1., 1., 1.,\n",
      "         1., 1., 1., 1., 1., 1., 0., 1., 1., 1., 1., 1., 1., 1., 1., 1., 1., 1.,\n",
      "         1., 1., 1., 1., 1., 1., 1., 0., 0., 1., 1., 1., 1., 1., 1., 1., 1., 1.,\n",
      "         1., 1., 1., 1., 1., 1., 1., 1., 1., 1., 1., 1., 1., 1., 1., 0., 1., 1.,\n",
      "         1., 1., 1., 1., 1., 1., 1., 1., 1., 1.],\n",
      "        [1., 1., 1., 1., 1., 1., 1., 1., 1., 1., 1., 1., 1., 1., 1., 1., 1., 0.,\n",
      "         1., 1., 1., 0., 1., 1., 1., 1., 1., 1., 0., 1., 1., 1., 1., 1., 1., 1.,\n",
      "         1., 1., 1., 1., 1., 1., 0., 1., 1., 1., 1., 1., 1., 1., 1., 1., 1., 1.,\n",
      "         1., 1., 0., 1., 1., 1., 1., 1., 1., 1., 1., 1., 1., 0., 1., 1., 1., 1.,\n",
      "         0., 1., 1., 1., 1., 1., 1., 1., 1., 1., 1., 1., 1., 0., 0., 1., 1., 1.,\n",
      "         0., 1., 1., 1., 1., 1., 1., 1., 1., 1.],\n",
      "        [1., 1., 1., 1., 1., 1., 0., 1., 1., 1., 1., 1., 1., 0., 1., 1., 1., 1.,\n",
      "         1., 1., 1., 1., 1., 1., 0., 1., 1., 1., 1., 1., 1., 1., 1., 1., 1., 1.,\n",
      "         1., 1., 1., 1., 1., 1., 1., 1., 1., 1., 1., 1., 1., 1., 0., 1., 0., 0.,\n",
      "         1., 1., 1., 1., 1., 1., 1., 1., 1., 1., 1., 1., 1., 1., 1., 1., 1., 1.,\n",
      "         1., 0., 1., 1., 1., 1., 1., 1., 1., 1., 1., 1., 1., 1., 1., 1., 0., 1.,\n",
      "         1., 0., 1., 1., 1., 1., 1., 1., 1., 1.],\n",
      "        [1., 1., 1., 1., 1., 1., 1., 1., 1., 1., 0., 1., 1., 1., 1., 1., 1., 1.,\n",
      "         1., 1., 1., 1., 1., 1., 1., 1., 1., 1., 0., 1., 1., 1., 1., 1., 1., 1.,\n",
      "         1., 1., 1., 0., 1., 1., 1., 1., 1., 1., 1., 0., 1., 1., 1., 1., 1., 0.,\n",
      "         1., 1., 1., 1., 1., 1., 1., 1., 0., 1., 1., 1., 1., 1., 1., 0., 1., 1.,\n",
      "         1., 1., 1., 0., 1., 1., 1., 1., 1., 1., 1., 1., 1., 1., 1., 1., 1., 0.,\n",
      "         1., 1., 1., 1., 1., 0., 1., 1., 1., 1.],\n",
      "        [1., 1., 1., 1., 0., 0., 0., 1., 1., 1., 1., 1., 1., 1., 1., 1., 1., 1.,\n",
      "         1., 0., 0., 1., 1., 1., 1., 1., 1., 1., 1., 1., 1., 1., 1., 1., 0., 1.,\n",
      "         1., 1., 1., 1., 1., 1., 1., 0., 1., 1., 1., 1., 1., 1., 0., 1., 1., 1.,\n",
      "         0., 1., 1., 1., 1., 1., 1., 1., 1., 1., 1., 1., 1., 1., 1., 1., 1., 1.,\n",
      "         1., 1., 1., 1., 1., 1., 1., 1., 1., 1., 1., 1., 0., 1., 1., 1., 1., 1.,\n",
      "         1., 1., 1., 0., 1., 1., 1., 1., 1., 1.],\n",
      "        [1., 1., 1., 1., 0., 1., 1., 1., 1., 1., 1., 1., 1., 1., 1., 1., 1., 1.,\n",
      "         1., 1., 0., 0., 1., 1., 0., 1., 1., 1., 1., 1., 1., 1., 1., 1., 1., 1.,\n",
      "         1., 0., 1., 1., 1., 1., 1., 0., 1., 0., 0., 1., 0., 1., 1., 1., 1., 1.,\n",
      "         1., 1., 1., 1., 1., 1., 1., 1., 1., 0., 1., 1., 1., 1., 1., 1., 1., 1.,\n",
      "         0., 1., 1., 1., 1., 1., 1., 1., 1., 1., 1., 1., 1., 1., 1., 1., 1., 1.,\n",
      "         0., 1., 1., 0., 1., 1., 1., 1., 1., 1.]])\n"
     ]
    }
   ],
   "source": [
    "print(\"Mask for fc1:\", model.fc1.weight_mask)\n",
    "print(\"Mask for fc2:\", model.fc2.weight_mask)\n",
    "print(\"Mask for fc3:\", model.fc3.weight_mask)"
   ]
  },
  {
   "cell_type": "code",
   "execution_count": 34,
   "metadata": {},
   "outputs": [
    {
     "data": {
      "text/plain": [
       "[('',\n",
       "  simpleMLP(\n",
       "    (fc1): Linear(in_features=784, out_features=256, bias=True)\n",
       "    (fc2): Linear(in_features=256, out_features=100, bias=True)\n",
       "    (fc3): Linear(in_features=100, out_features=10, bias=True)\n",
       "  )),\n",
       " ('fc1', Linear(in_features=784, out_features=256, bias=True)),\n",
       " ('fc2', Linear(in_features=256, out_features=100, bias=True)),\n",
       " ('fc3', Linear(in_features=100, out_features=10, bias=True))]"
      ]
     },
     "execution_count": 34,
     "metadata": {},
     "output_type": "execute_result"
    }
   ],
   "source": [
    "list(model.named_modules())"
   ]
  },
  {
   "cell_type": "code",
   "execution_count": 35,
   "metadata": {},
   "outputs": [],
   "source": [
    "for name, module in model.named_modules():\n",
    "    if isinstance(module, nn.Linear):\n",
    "        prune.remove(module, 'weight') # fix pruned weights"
   ]
  },
  {
   "cell_type": "code",
   "execution_count": 36,
   "metadata": {},
   "outputs": [
    {
     "data": {
      "text/plain": [
       "dict_keys(['fc1.bias', 'fc1.weight', 'fc2.bias', 'fc2.weight', 'fc3.bias', 'fc3.weight'])"
      ]
     },
     "execution_count": 36,
     "metadata": {},
     "output_type": "execute_result"
    }
   ],
   "source": [
    "dict(model.named_parameters()).keys()"
   ]
  },
  {
   "cell_type": "code",
   "execution_count": 37,
   "metadata": {},
   "outputs": [
    {
     "data": {
      "image/png": "[encoded data removed]",
      "text/plain": [
       "<Figure size 640x480 with 1 Axes>"
      ]
     },
     "metadata": {},
     "output_type": "display_data"
    }
   ],
   "source": [
    "all_weights = []\n",
    "for name, param in model.named_parameters():\n",
    "    if 'weight' in name:\n",
    "        all_weights.extend(param.detach().numpy().flatten())\n",
    "        \n",
    "plt.hist(all_weights, bins=100, alpha=1)\n",
    "plt.title('All Weight Distribution (After)')\n",
    "plt.xlabel('Weight value')\n",
    "plt.ylabel('Frequency')\n",
    "plt.grid(True, axis='y')\n",
    "plt.show()"
   ]
  },
  {
   "cell_type": "code",
   "execution_count": null,
   "metadata": {},
   "outputs": [],
   "source": []
  }
 ],
 "metadata": {
  "kernelspec": {
   "display_name": ".venv",
   "language": "python",
   "name": ".venv"
  },
  "language_info": {
   "codemirror_mode": {
    "name": "ipython",
    "version": 3
   },
   "file_extension": ".py",
   "mimetype": "text/x-python",
   "name": "python",
   "nbconvert_exporter": "python",
   "pygments_lexer": "ipython3",
   "version": "3.10.12"
  },
  "orig_nbformat": 4
 },
 "nbformat": 4,
 "nbformat_minor": 2
}
