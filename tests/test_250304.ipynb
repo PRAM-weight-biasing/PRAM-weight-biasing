{
 "cells": [
  {
   "cell_type": "code",
   "execution_count": 4,
   "metadata": {},
   "outputs": [],
   "source": [
    "import torch\n",
    "import matplotlib.pyplot as plt\n",
    "import sys\n",
    "import os\n",
    "from network import InfModel\n",
    "\n",
    "folder_name = 'Test_2024-10-28_15-15_Resnet18_p0.3'\n",
    "model_name = 'local_pruned_model.pth'\n",
    "dir_name = os.getcwd() + '/TestRun/'\n",
    "folder_path = os.path.join(dir_name, folder_name)\n",
    "model_path = os.path.join(folder_path, model_name)\n",
    "\n",
    "# 모델 로드\n",
    "model = torch.load(model_path)\n",
    "inf_model = InfModel(model, \"cifar10\")\n",
    "analog_model = inf_model.ConvertModel()"
   ]
  },
  {
   "cell_type": "code",
   "execution_count": 7,
   "metadata": {},
   "outputs": [
    {
     "name": "stdout",
     "output_type": "stream",
     "text": [
      "Tensors : conv1.analog_module\n",
      "<class 'str'>\n",
      "Tensors : layer1.0.conv1.analog_module\n",
      "<class 'str'>\n",
      "Tensors : layer1.0.conv2.analog_module\n",
      "<class 'str'>\n",
      "Tensors : layer1.1.conv1.analog_module\n",
      "<class 'str'>\n",
      "Tensors : layer1.1.conv2.analog_module\n",
      "<class 'str'>\n",
      "Tensors : layer2.0.conv1.analog_module\n",
      "<class 'str'>\n",
      "Tensors : layer2.0.conv2.analog_module\n",
      "<class 'str'>\n",
      "Tensors : layer2.0.downsample.0.analog_module\n",
      "<class 'str'>\n",
      "Tensors : layer2.1.conv1.analog_module\n",
      "<class 'str'>\n",
      "Tensors : layer2.1.conv2.analog_module\n",
      "<class 'str'>\n",
      "Tensors : layer3.0.conv1.analog_module\n",
      "<class 'str'>\n",
      "Tensors : layer3.0.conv2.analog_module\n",
      "<class 'str'>\n",
      "Tensors : layer3.0.downsample.0.analog_module\n",
      "<class 'str'>\n",
      "Tensors : layer3.1.conv1.analog_module\n",
      "<class 'str'>\n",
      "Tensors : layer3.1.conv2.analog_module\n",
      "<class 'str'>\n",
      "Tensors : layer4.0.conv1.analog_module\n",
      "<class 'str'>\n",
      "Tensors : layer4.0.conv2.analog_module\n",
      "<class 'str'>\n",
      "Tensors : layer4.0.downsample.0.analog_module\n",
      "<class 'str'>\n",
      "Tensors : layer4.1.conv1.analog_module\n",
      "<class 'str'>\n",
      "Tensors : layer4.1.conv2.analog_module\n",
      "<class 'str'>\n",
      "Tensors : fc.analog_module\n",
      "<class 'str'>\n"
     ]
    }
   ],
   "source": [
    "for tensors in analog_model.get_weights():\n",
    "    print(\"Tensors :\", tensors)\n",
    "    print(type(tensors))"
   ]
  },
  {
   "cell_type": "code",
   "execution_count": 11,
   "metadata": {},
   "outputs": [
    {
     "name": "stdout",
     "output_type": "stream",
     "text": [
      "conv:  conv1.weight\n",
      "conv:  layer1.0.conv1.weight\n",
      "conv:  layer1.0.conv2.weight\n",
      "conv:  layer1.1.conv1.weight\n",
      "conv:  layer1.1.conv2.weight\n",
      "conv:  layer2.0.conv1.weight\n",
      "conv:  layer2.0.conv2.weight\n",
      "conv:  layer2.0.downsample.0.weight\n",
      "conv:  layer2.1.conv1.weight\n",
      "conv:  layer2.1.conv2.weight\n",
      "conv:  layer3.0.conv1.weight\n",
      "conv:  layer3.0.conv2.weight\n",
      "conv:  layer3.0.downsample.0.weight\n",
      "conv:  layer3.1.conv1.weight\n",
      "conv:  layer3.1.conv2.weight\n",
      "conv:  layer4.0.conv1.weight\n",
      "conv:  layer4.0.conv2.weight\n",
      "conv:  layer4.0.downsample.0.weight\n",
      "conv:  layer4.1.conv1.weight\n",
      "conv:  layer4.1.conv2.weight\n",
      "fc:  fc.weight\n"
     ]
    }
   ],
   "source": [
    "for name, param in model.named_parameters():\n",
    "    if \"weight\" in name and len(param.size()) > 1:  # Conv / FC layer만 처리\n",
    "        if \"fc\" in name or len(param.size()) == 2:  # Fully Connected Layer\n",
    "            print(\"fc: \", name)\n",
    "        elif \"conv\" in name or len(param.size()) == 4:  # Convolutional Layer\n",
    "            print(\"conv: \", name)"
   ]
  },
  {
   "cell_type": "code",
   "execution_count": 43,
   "metadata": {},
   "outputs": [
    {
     "name": "stdout",
     "output_type": "stream",
     "text": [
      "Layer: conv1.weight, Shape: torch.Size([64, 3, 3, 3]), Size: 4\n",
      "Layer: layer1.0.conv1.weight, Shape: torch.Size([64, 64, 3, 3]), Size: 4\n",
      "Layer: layer1.0.conv2.weight, Shape: torch.Size([64, 64, 3, 3]), Size: 4\n",
      "Layer: layer1.1.conv1.weight, Shape: torch.Size([64, 64, 3, 3]), Size: 4\n",
      "Layer: layer1.1.conv2.weight, Shape: torch.Size([64, 64, 3, 3]), Size: 4\n",
      "Layer: layer2.0.conv1.weight, Shape: torch.Size([128, 64, 3, 3]), Size: 4\n",
      "Layer: layer2.0.conv2.weight, Shape: torch.Size([128, 128, 3, 3]), Size: 4\n",
      "Layer: layer2.0.downsample.0.weight, Shape: torch.Size([128, 64, 1, 1]), Size: 4\n",
      "Layer: layer2.1.conv1.weight, Shape: torch.Size([128, 128, 3, 3]), Size: 4\n",
      "Layer: layer2.1.conv2.weight, Shape: torch.Size([128, 128, 3, 3]), Size: 4\n",
      "Layer: layer3.0.conv1.weight, Shape: torch.Size([256, 128, 3, 3]), Size: 4\n",
      "Layer: layer3.0.conv2.weight, Shape: torch.Size([256, 256, 3, 3]), Size: 4\n",
      "Layer: layer3.0.downsample.0.weight, Shape: torch.Size([256, 128, 1, 1]), Size: 4\n",
      "Layer: layer3.1.conv1.weight, Shape: torch.Size([256, 256, 3, 3]), Size: 4\n",
      "Layer: layer3.1.conv2.weight, Shape: torch.Size([256, 256, 3, 3]), Size: 4\n",
      "Layer: layer4.0.conv1.weight, Shape: torch.Size([512, 256, 3, 3]), Size: 4\n",
      "Layer: layer4.0.conv2.weight, Shape: torch.Size([512, 512, 3, 3]), Size: 4\n",
      "Layer: layer4.0.downsample.0.weight, Shape: torch.Size([512, 256, 1, 1]), Size: 4\n",
      "Layer: layer4.1.conv1.weight, Shape: torch.Size([512, 512, 3, 3]), Size: 4\n",
      "Layer: layer4.1.conv2.weight, Shape: torch.Size([512, 512, 3, 3]), Size: 4\n",
      "Layer: fc.weight, Shape: torch.Size([10, 512]), Size: 2\n"
     ]
    }
   ],
   "source": [
    "for name, param in model.named_parameters():\n",
    "    if \"weight\" in name and len(param.size()) > 1:  # Conv / FC layer만 처리\n",
    "        print(f\"Layer: {name}, Shape: {param.shape}, Size: {len(param.size())}\")"
   ]
  },
  {
   "cell_type": "code",
   "execution_count": 22,
   "metadata": {},
   "outputs": [
    {
     "name": "stdout",
     "output_type": "stream",
     "text": [
      "Layer: layer1.0.conv1.weight, Weight Min: -0.06962092220783234, Max: 0.0570538230240345\n",
      "Conductance Gp Min: 0.0, Max: 20.48731231689453\n",
      "Conductance Gm Min: 0.0, Max: 25.0\n"
     ]
    }
   ],
   "source": [
    "import numpy as np\n",
    "import matplotlib.pyplot as plt\n",
    "from network import InfModel\n",
    "\n",
    "inf_model = InfModel(model, \"cifar10\")\n",
    "rpu_config = inf_model.SetConfig()\n",
    "analog_model = inf_model.ConvertModel()\n",
    "\n",
    "for name, param in model.named_parameters():\n",
    "    if name == \"layer1.0.conv1.weight\":\n",
    "        weights = param.data.cpu()\n",
    "        print(f\"Layer: {name}, Weight Min: {weights.min().item()}, Max: {weights.max().item()}\")  \n",
    "\n",
    "        # Conductance 변환 수행\n",
    "        conductance_pair = rpu_config.noise_model.g_converter.convert_to_conductances(weights)\n",
    "        gp, gm = conductance_pair[0]  # conductance_pair는 (gp, gm), params 반환\n",
    "\n",
    "        # 변환 후 값 확인\n",
    "        print(f\"Conductance Gp Min: {gp.min().item()}, Max: {gp.max().item()}\")\n",
    "        print(f\"Conductance Gm Min: {gm.min().item()}, Max: {gm.max().item()}\")\n",
    "\n",
    "        # 0이 아닌 값들만 필터링\n",
    "        gp_nonzero = gp[gp > 0]\n",
    "        gm_nonzero = gm[gm > 0]\n",
    "\n",
    "        if gp_nonzero.numel() == 0:\n",
    "            print(\"Gp has only zeros!\")\n",
    "        if gm_nonzero.numel() == 0:\n",
    "            print(\"Gm has only zeros!\")\n"
   ]
  },
  {
   "cell_type": "code",
   "execution_count": 25,
   "metadata": {},
   "outputs": [
    {
     "data": {
      "text/plain": [
       "tensor([[[[2.2551, 1.8474, 0.0000],\n",
       "          [9.9944, 9.5956, 6.1060],\n",
       "          [0.0000, 0.5084, 0.0000]],\n",
       "\n",
       "         [[0.8205, 5.6218, 3.9252],\n",
       "          [1.3712, 5.6487, 5.8839],\n",
       "          [1.6442, 5.0126, 7.3368]],\n",
       "\n",
       "         [[0.0000, 0.0000, 0.0000],\n",
       "          [0.0000, 0.5088, 0.6506],\n",
       "          [0.0000, 0.0000, 0.0000]],\n",
       "\n",
       "         ...,\n",
       "\n",
       "         [[0.0000, 0.0000, 0.0000],\n",
       "          [5.2024, 6.4622, 4.0856],\n",
       "          [4.0103, 5.8225, 3.2814]],\n",
       "\n",
       "         [[0.0000, 1.8767, 0.0000],\n",
       "          [1.5007, 4.4959, 2.0774],\n",
       "          [1.2205, 2.7139, 1.4258]],\n",
       "\n",
       "         [[1.2745, 2.2185, 1.7382],\n",
       "          [2.9788, 3.6689, 2.6589],\n",
       "          [0.0000, 1.3872, 0.6146]]],\n",
       "\n",
       "\n",
       "        [[[0.0000, 0.0000, 0.0000],\n",
       "          [0.0000, 0.0000, 0.0000],\n",
       "          [2.7199, 0.0000, 0.0000]],\n",
       "\n",
       "         [[0.5834, 0.0000, 2.0082],\n",
       "          [0.0000, 0.0000, 0.0000],\n",
       "          [0.5773, 0.0000, 1.6464]],\n",
       "\n",
       "         [[3.3866, 2.3633, 0.0000],\n",
       "          [2.4094, 2.4870, 0.0000],\n",
       "          [3.1627, 2.5455, 0.0000]],\n",
       "\n",
       "         ...,\n",
       "\n",
       "         [[0.0000, 0.0000, 0.0000],\n",
       "          [0.0000, 0.0000, 0.0000],\n",
       "          [0.0000, 1.0134, 0.0000]],\n",
       "\n",
       "         [[0.0000, 1.0146, 0.0000],\n",
       "          [0.0000, 0.5022, 0.0000],\n",
       "          [0.0000, 0.5106, 0.0000]],\n",
       "\n",
       "         [[0.0000, 0.0000, 1.0054],\n",
       "          [0.0000, 1.0030, 2.8552],\n",
       "          [0.0000, 0.9255, 2.7207]]],\n",
       "\n",
       "\n",
       "        [[[0.0000, 0.0000, 3.9610],\n",
       "          [0.0000, 0.0000, 3.4941],\n",
       "          [0.0000, 0.0000, 0.5440]],\n",
       "\n",
       "         [[0.0000, 0.0000, 0.0000],\n",
       "          [0.0000, 1.8270, 1.4137],\n",
       "          [0.0000, 3.2287, 2.4281]],\n",
       "\n",
       "         [[0.0000, 0.0000, 0.0000],\n",
       "          [0.0000, 0.0000, 0.0000],\n",
       "          [2.3392, 0.0000, 0.3991]],\n",
       "\n",
       "         ...,\n",
       "\n",
       "         [[0.0000, 0.0000, 2.3613],\n",
       "          [0.0000, 0.0000, 3.2076],\n",
       "          [0.8656, 1.6331, 3.2136]],\n",
       "\n",
       "         [[1.3521, 0.0000, 0.0000],\n",
       "          [1.0887, 0.0000, 1.3944],\n",
       "          [0.7412, 0.0000, 0.0000]],\n",
       "\n",
       "         [[0.8588, 1.9944, 3.1159],\n",
       "          [0.0000, 0.8115, 2.4245],\n",
       "          [0.0000, 0.0000, 0.0000]]],\n",
       "\n",
       "\n",
       "        ...,\n",
       "\n",
       "\n",
       "        [[[0.0000, 0.0000, 0.0000],\n",
       "          [0.0000, 0.0000, 0.0000],\n",
       "          [0.0000, 0.0000, 0.0000]],\n",
       "\n",
       "         [[1.2793, 2.8534, 1.3968],\n",
       "          [0.0000, 0.0000, 0.0000],\n",
       "          [0.0000, 0.0000, 0.0000]],\n",
       "\n",
       "         [[0.0000, 2.7900, 1.8795],\n",
       "          [0.0000, 0.0000, 0.0000],\n",
       "          [1.8289, 0.0000, 0.0000]],\n",
       "\n",
       "         ...,\n",
       "\n",
       "         [[0.0000, 0.5280, 0.0000],\n",
       "          [0.7124, 0.5164, 0.0000],\n",
       "          [3.3710, 2.5064, 0.9920]],\n",
       "\n",
       "         [[0.0000, 0.5158, 0.0000],\n",
       "          [0.0000, 0.0000, 0.0000],\n",
       "          [0.0000, 0.0000, 0.0000]],\n",
       "\n",
       "         [[2.3283, 2.1341, 1.1602],\n",
       "          [3.5108, 3.4530, 1.8093],\n",
       "          [3.8089, 2.7091, 0.5271]]],\n",
       "\n",
       "\n",
       "        [[[0.0000, 0.0000, 0.0000],\n",
       "          [1.8262, 1.2138, 1.1767],\n",
       "          [1.9301, 1.0685, 0.0000]],\n",
       "\n",
       "         [[2.2555, 0.0000, 0.0000],\n",
       "          [3.9241, 0.0000, 0.0000],\n",
       "          [2.5802, 0.0000, 0.0000]],\n",
       "\n",
       "         [[3.4235, 4.1018, 2.4502],\n",
       "          [0.0000, 0.0000, 0.4352],\n",
       "          [0.0000, 0.0000, 0.0000]],\n",
       "\n",
       "         ...,\n",
       "\n",
       "         [[2.3622, 0.0000, 0.0000],\n",
       "          [1.8691, 0.0000, 2.1601],\n",
       "          [0.0000, 0.0000, 0.4364]],\n",
       "\n",
       "         [[1.0805, 0.0000, 0.0000],\n",
       "          [0.8399, 0.0000, 0.5286],\n",
       "          [0.0000, 0.0000, 1.5317]],\n",
       "\n",
       "         [[0.0000, 0.0000, 0.0000],\n",
       "          [0.7124, 1.3024, 1.1837],\n",
       "          [1.7300, 1.6352, 1.2789]]],\n",
       "\n",
       "\n",
       "        [[[0.0000, 0.0000, 0.0000],\n",
       "          [1.5769, 5.0400, 2.0984],\n",
       "          [1.1326, 4.2208, 2.4411]],\n",
       "\n",
       "         [[0.0000, 0.0000, 0.6653],\n",
       "          [0.0000, 0.0000, 0.8528],\n",
       "          [0.0000, 0.0000, 0.0000]],\n",
       "\n",
       "         [[0.0000, 0.0000, 0.0000],\n",
       "          [0.0000, 0.0000, 0.0000],\n",
       "          [0.9753, 2.7413, 1.4936]],\n",
       "\n",
       "         ...,\n",
       "\n",
       "         [[0.0000, 0.0000, 0.0000],\n",
       "          [0.0000, 2.4507, 1.9770],\n",
       "          [0.5757, 5.3503, 3.3477]],\n",
       "\n",
       "         [[0.0000, 0.0000, 0.0000],\n",
       "          [1.3814, 1.4170, 0.8097],\n",
       "          [1.6387, 1.9491, 2.0768]],\n",
       "\n",
       "         [[0.0000, 0.0000, 0.0000],\n",
       "          [0.0000, 1.7069, 1.2583],\n",
       "          [1.1024, 2.3400, 1.2600]]]])"
      ]
     },
     "execution_count": 25,
     "metadata": {},
     "output_type": "execute_result"
    }
   ],
   "source": [
    "gp"
   ]
  },
  {
   "cell_type": "code",
   "execution_count": 26,
   "metadata": {},
   "outputs": [
    {
     "data": {
      "text/plain": [
       "tensor([2.2551, 1.8474, 0.0000,  ..., 1.1024, 2.3400, 1.2600])"
      ]
     },
     "execution_count": 26,
     "metadata": {},
     "output_type": "execute_result"
    }
   ],
   "source": [
    "gp.flatten()"
   ]
  },
  {
   "cell_type": "code",
   "execution_count": 27,
   "metadata": {},
   "outputs": [
    {
     "data": {
      "text/plain": [
       "tensor([0.0000, 0.0000, 0.4221,  ..., 0.0000, 0.0000, 0.0000])"
      ]
     },
     "execution_count": 27,
     "metadata": {},
     "output_type": "execute_result"
    }
   ],
   "source": [
    "gm.flatten()"
   ]
  },
  {
   "cell_type": "code",
   "execution_count": 32,
   "metadata": {},
   "outputs": [
    {
     "data": {
      "image/png": "[encoded data removed]",
      "text/plain": [
       "<Figure size 640x480 with 1 Axes>"
      ]
     },
     "metadata": {},
     "output_type": "display_data"
    }
   ],
   "source": [
    "plt.hist(gp.flatten(), bins=100, alpha=1, label=\"Gp\")\n",
    "plt.hist(gm.flatten(), bins=100, alpha=0.5, label=\"Gm\")\n",
    "plt.grid(True)\n",
    "# plt.yscale('log')"
   ]
  },
  {
   "cell_type": "code",
   "execution_count": null,
   "metadata": {},
   "outputs": [],
   "source": []
  },
  {
   "cell_type": "code",
   "execution_count": 47,
   "metadata": {},
   "outputs": [],
   "source": [
    "import numpy as np\n",
    "import matplotlib.pyplot as plt\n",
    "\n",
    "# Conductance 변환 함수 (FC / Conv 분리)\n",
    "def convert_weights_to_conductance(model, rpu_config):\n",
    "    conductance_list_fc = []\n",
    "    conductance_list_conv = []\n",
    "\n",
    "    min_gp_fc, min_gm_fc = None, None\n",
    "    min_gp_conv, min_gm_conv = None, None\n",
    "\n",
    "    for name, param in model.named_parameters():\n",
    "        if \"weight\" in name and len(param.size()) > 1:  # Conv / FC layer만 처리\n",
    "            weights = param.data.cpu()\n",
    "            \n",
    "            # Conductance 변환 수행\n",
    "            conductance_pair = rpu_config.noise_model.g_converter.convert_to_conductances(weights)\n",
    "            gp, gm = conductance_pair[0]  # conductance_pair는 (gp, gm), params 반환\n",
    "\n",
    "            if len(param.size()) == 4:  # Convolutional Layer\n",
    "                conductance_list_conv.append((gp.flatten(), gm.flatten()))\n",
    "                \n",
    "            elif len(param.size()) == 2:  # Fully Connected Layer\n",
    "                conductance_list_fc.append((gp.flatten(), gm.flatten()))\n",
    "\n",
    "    return conductance_list_fc, conductance_list_conv\n"
   ]
  },
  {
   "cell_type": "code",
   "execution_count": 48,
   "metadata": {},
   "outputs": [],
   "source": [
    "g_fc, g_conv = convert_weights_to_conductance(analog_model, rpu_config)"
   ]
  },
  {
   "cell_type": "code",
   "execution_count": 50,
   "metadata": {},
   "outputs": [
    {
     "data": {
      "text/plain": [
       "[(tensor([3.8355, 9.5919, 5.2561,  ..., 0.0000, 1.1982, 0.0000]),\n",
       "  tensor([0.0000, 0.0000, 0.0000,  ..., 1.2208, 0.0000, 0.0000])),\n",
       " (tensor([2.2551, 1.8474, 0.0000,  ..., 1.1024, 2.3400, 1.2600]),\n",
       "  tensor([0.0000, 0.0000, 0.4221,  ..., 0.0000, 0.0000, 0.0000])),\n",
       " (tensor([1.6702, 0.0000, 0.0000,  ..., 0.0000, 0.0000, 0.0000]),\n",
       "  tensor([0.0000, 0.0000, 0.0000,  ..., 4.6494, 0.0000, 0.0000])),\n",
       " (tensor([4.1522, 2.4102, 1.2959,  ..., 0.0000, 2.0292, 0.0000]),\n",
       "  tensor([0.0000, 0.0000, 0.0000,  ..., 2.0190, 0.0000, 0.0000])),\n",
       " (tensor([3.6468, 5.5546, 0.0000,  ..., 0.0000, 0.0000, 4.3425]),\n",
       "  tensor([0.0000, 0.0000, 0.0000,  ..., 4.1632, 3.5297, 0.0000])),\n",
       " (tensor([2.9174, 4.6611, 0.0000,  ..., 2.0716, 0.0000, 0.0000]),\n",
       "  tensor([0.0000, 0.0000, 0.0000,  ..., 0.0000, 1.5907, 0.0000])),\n",
       " (tensor([0.0000, 0.0000, 0.0000,  ..., 0.0000, 1.6562, 1.7294]),\n",
       "  tensor([6.5752, 0.0000, 1.4366,  ..., 1.8976, 0.0000, 0.0000])),\n",
       " (tensor([7.4831, 0.0000, 0.0000,  ..., 5.7906, 0.0000, 0.0000]),\n",
       "  tensor([0.0000, 4.3502, 0.0000,  ..., 0.0000, 8.0629, 0.0000])),\n",
       " (tensor([7.0644, 0.0000, 0.0000,  ..., 3.5448, 0.0000, 0.0000]),\n",
       "  tensor([0.0000, 2.1687, 6.1565,  ..., 0.0000, 0.0000, 3.0054])),\n",
       " (tensor([0.0000, 0.0000, 4.7960,  ..., 4.2636, 7.9866, 4.4363]),\n",
       "  tensor([0., 0., 0.,  ..., 0., 0., 0.])),\n",
       " (tensor([0.0000, 0.0000, 0.0000,  ..., 5.1798, 3.2222, 0.0000]),\n",
       "  tensor([1.5390, 2.7235, 2.1308,  ..., 0.0000, 0.0000, 1.1320])),\n",
       " (tensor([2.0346, 0.0000, 0.0000,  ..., 0.0000, 0.0000, 0.0000]),\n",
       "  tensor([0.0000, 0.0000, 1.0897,  ..., 1.9959, 4.1022, 1.3959])),\n",
       " (tensor([0.0000, 1.2406, 1.4159,  ..., 1.2446, 0.0000, 0.0000]),\n",
       "  tensor([0.0000, 0.0000, 0.0000,  ..., 0.0000, 0.0000, 1.3436])),\n",
       " (tensor([0., 0., 0.,  ..., 0., 0., 0.]),\n",
       "  tensor([0.7512, 1.6883, 1.4300,  ..., 1.4171, 2.4326, 1.3225])),\n",
       " (tensor([0., 0., 0.,  ..., 0., 0., 0.]),\n",
       "  tensor([1.3247, 0.9373, 1.8337,  ..., 0.0000, 0.9241, 0.0000])),\n",
       " (tensor([0., 0., 0.,  ..., 0., 0., 0.]),\n",
       "  tensor([ 1.0756,  1.3102,  0.9148,  ...,  5.2514, 11.9616,  8.2084])),\n",
       " (tensor([0.0000, 0.0000, 0.0000,  ..., 2.2874, 4.7341, 2.5467]),\n",
       "  tensor([0.5752, 1.0859, 0.5917,  ..., 0.0000, 0.0000, 0.0000])),\n",
       " (tensor([0.0000, 1.6725, 0.0000,  ..., 2.4670, 0.0000, 0.0000]),\n",
       "  tensor([ 2.1233,  0.0000,  4.7982,  ...,  0.0000,  2.1820, 13.0024])),\n",
       " (tensor([0.2823, 0.5505, 0.2558,  ..., 0.0000, 0.0000, 0.0000]),\n",
       "  tensor([0., 0., 0.,  ..., 0., 0., 0.])),\n",
       " (tensor([0., 0., 0.,  ..., 0., 0., 0.]),\n",
       "  tensor([0.1829, 0.3483, 0.1784,  ..., 0.0000, 0.0000, 0.0000])),\n",
       " (tensor([ 0.0000,  0.0000,  0.0000,  ...,  7.3837,  0.0000, 14.2151]),\n",
       "  tensor([1.7531, 2.2565, 0.0000,  ..., 0.0000, 0.0000, 0.0000]))]"
      ]
     },
     "execution_count": 50,
     "metadata": {},
     "output_type": "execute_result"
    }
   ],
   "source": [
    "g_fc"
   ]
  },
  {
   "cell_type": "code",
   "execution_count": 36,
   "metadata": {},
   "outputs": [],
   "source": [
    "gp_fc_all = np.concatenate([gp for gp, _ in g_fc]) if g_fc else np.array([])"
   ]
  },
  {
   "cell_type": "code",
   "execution_count": 37,
   "metadata": {},
   "outputs": [
    {
     "data": {
      "text/plain": [
       "array([ 3.8355405,  9.591926 ,  5.2560782, ...,  7.383723 ,  0.       ,\n",
       "       14.215082 ], dtype=float32)"
      ]
     },
     "execution_count": 37,
     "metadata": {},
     "output_type": "execute_result"
    }
   ],
   "source": [
    "gp_fc_all"
   ]
  },
  {
   "cell_type": "code",
   "execution_count": 38,
   "metadata": {},
   "outputs": [
    {
     "data": {
      "text/plain": [
       "array([], dtype=float64)"
      ]
     },
     "execution_count": 38,
     "metadata": {},
     "output_type": "execute_result"
    }
   ],
   "source": [
    "gp_conv_all = np.concatenate([gp for gp, _ in g_conv]) if g_conv else np.array([])\n",
    "gp_conv_all"
   ]
  },
  {
   "cell_type": "code",
   "execution_count": 49,
   "metadata": {},
   "outputs": [
    {
     "data": {
      "text/plain": [
       "[]"
      ]
     },
     "execution_count": 49,
     "metadata": {},
     "output_type": "execute_result"
    }
   ],
   "source": [
    "g_conv"
   ]
  },
  {
   "cell_type": "code",
   "execution_count": null,
   "metadata": {},
   "outputs": [],
   "source": []
  },
  {
   "cell_type": "code",
   "execution_count": null,
   "metadata": {},
   "outputs": [],
   "source": []
  },
  {
   "cell_type": "code",
   "execution_count": null,
   "metadata": {},
   "outputs": [],
   "source": []
  },
  {
   "cell_type": "code",
   "execution_count": null,
   "metadata": {},
   "outputs": [
    {
     "name": "stdout",
     "output_type": "stream",
     "text": [
      "Layer: conv1.analog_module.shared_weights, Gp Min: 0.0, Max: 23.057903289794922, Nonzero count: 599\n",
      "Layer: conv1.analog_module.shared_weights, Gm Min: 0.0, Max: 25.0, Nonzero count: 611\n",
      "Layer: layer1.0.conv1.analog_module.shared_weights, Gp Min: 0.0, Max: 20.48731231689453, Nonzero count: 12142\n",
      "Layer: layer1.0.conv1.analog_module.shared_weights, Gm Min: 0.0, Max: 25.0, Nonzero count: 13663\n",
      "Layer: layer1.0.conv2.analog_module.shared_weights, Gp Min: 0.0, Max: 25.0, Nonzero count: 11993\n",
      "Layer: layer1.0.conv2.analog_module.shared_weights, Gm Min: 0.0, Max: 22.807621002197266, Nonzero count: 13812\n",
      "Layer: layer1.1.conv1.analog_module.shared_weights, Gp Min: 0.0, Max: 25.0, Nonzero count: 11854\n",
      "Layer: layer1.1.conv1.analog_module.shared_weights, Gm Min: 0.0, Max: 22.523347854614258, Nonzero count: 13951\n",
      "Layer: layer1.1.conv2.analog_module.shared_weights, Gp Min: 0.0, Max: 20.688251495361328, Nonzero count: 11481\n",
      "Layer: layer1.1.conv2.analog_module.shared_weights, Gm Min: 0.0, Max: 25.0, Nonzero count: 14324\n",
      "Layer: layer2.0.conv1.analog_module.shared_weights, Gp Min: 0.0, Max: 25.0, Nonzero count: 21984\n",
      "Layer: layer2.0.conv1.analog_module.shared_weights, Gm Min: 0.0, Max: 20.28583526611328, Nonzero count: 29626\n",
      "Layer: layer2.0.conv2.analog_module.shared_weights, Gp Min: 0.0, Max: 25.0, Nonzero count: 44608\n",
      "Layer: layer2.0.conv2.analog_module.shared_weights, Gm Min: 0.0, Max: 20.20964241027832, Nonzero count: 58611\n",
      "Layer: layer2.0.downsample.0.analog_module.shared_weights, Gp Min: 0.0, Max: 25.0, Nonzero count: 2388\n",
      "Layer: layer2.0.downsample.0.analog_module.shared_weights, Gm Min: 0.0, Max: 18.820005416870117, Nonzero count: 3346\n",
      "Layer: layer2.1.conv1.analog_module.shared_weights, Gp Min: 0.0, Max: 25.0, Nonzero count: 43146\n",
      "Layer: layer2.1.conv1.analog_module.shared_weights, Gm Min: 0.0, Max: 20.8509578704834, Nonzero count: 60073\n",
      "Layer: layer2.1.conv2.analog_module.shared_weights, Gp Min: 0.0, Max: 25.0, Nonzero count: 41685\n",
      "Layer: layer2.1.conv2.analog_module.shared_weights, Gm Min: 0.0, Max: 14.936034202575684, Nonzero count: 61534\n",
      "Layer: layer3.0.conv1.analog_module.shared_weights, Gp Min: 0.0, Max: 25.0, Nonzero count: 89825\n",
      "Layer: layer3.0.conv1.analog_module.shared_weights, Gm Min: 0.0, Max: 13.064798355102539, Nonzero count: 116613\n",
      "Layer: layer3.0.conv2.analog_module.shared_weights, Gp Min: 0.0, Max: 25.0, Nonzero count: 180028\n",
      "Layer: layer3.0.conv2.analog_module.shared_weights, Gm Min: 0.0, Max: 17.884780883789062, Nonzero count: 232849\n",
      "Layer: layer3.0.downsample.0.analog_module.shared_weights, Gp Min: 0.0, Max: 25.0, Nonzero count: 9607\n",
      "Layer: layer3.0.downsample.0.analog_module.shared_weights, Gm Min: 0.0, Max: 17.912458419799805, Nonzero count: 13331\n",
      "Layer: layer3.1.conv1.analog_module.shared_weights, Gp Min: 0.0, Max: 24.894264221191406, Nonzero count: 166876\n",
      "Layer: layer3.1.conv1.analog_module.shared_weights, Gm Min: 0.0, Max: 25.0, Nonzero count: 246001\n",
      "Layer: layer3.1.conv2.analog_module.shared_weights, Gp Min: 0.0, Max: 22.089969635009766, Nonzero count: 138300\n",
      "Layer: layer3.1.conv2.analog_module.shared_weights, Gm Min: 0.0, Max: 25.0, Nonzero count: 274577\n",
      "Layer: layer4.0.conv1.analog_module.shared_weights, Gp Min: 0.0, Max: 18.462831497192383, Nonzero count: 383370\n",
      "Layer: layer4.0.conv1.analog_module.shared_weights, Gm Min: 0.0, Max: 25.0, Nonzero count: 442384\n",
      "Layer: layer4.0.conv2.analog_module.shared_weights, Gp Min: 0.0, Max: 25.0, Nonzero count: 676257\n",
      "Layer: layer4.0.conv2.analog_module.shared_weights, Gm Min: 0.0, Max: 7.882823944091797, Nonzero count: 975250\n",
      "Layer: layer4.0.downsample.0.analog_module.shared_weights, Gp Min: 0.0, Max: 25.0, Nonzero count: 39957\n",
      "Layer: layer4.0.downsample.0.analog_module.shared_weights, Gm Min: 0.0, Max: 16.51500701904297, Nonzero count: 51793\n",
      "Layer: layer4.1.conv1.analog_module.shared_weights, Gp Min: 0.0, Max: 25.0, Nonzero count: 1334754\n",
      "Layer: layer4.1.conv1.analog_module.shared_weights, Gm Min: 0.0, Max: 7.865383625030518, Nonzero count: 316753\n",
      "Layer: layer4.1.conv2.analog_module.shared_weights, Gp Min: 0.0, Max: 25.0, Nonzero count: 573782\n",
      "Layer: layer4.1.conv2.analog_module.shared_weights, Gm Min: 0.0, Max: 5.8290605545043945, Nonzero count: 1077725\n",
      "Layer: fc.analog_module.shared_weights, Gp Min: 0.0, Max: 25.0, Nonzero count: 669\n",
      "Layer: fc.analog_module.shared_weights, Gm Min: 0.0, Max: 3.7683143615722656, Nonzero count: 2915\n",
      "Conv Conductance Count: 0\n"
     ]
    }
   ],
   "source": [
    "def convert_weights_to_conductance(analog_model, rpu_config):\n",
    "    conductance_list_fc = []\n",
    "    conductance_list_conv = []\n",
    "\n",
    "    for name, param in analog_model.named_parameters():  #  analog_model에서 weight 가져오기\n",
    "        if \"weight\" in name and len(param.size()) > 1:  # Conv / FC layer만 처리\n",
    "            weights = param.data.cpu()\n",
    "\n",
    "            # Conductance 변환 수행\n",
    "            conductance_pair = rpu_config.noise_model.g_converter.convert_to_conductances(weights)\n",
    "            gp, gm = conductance_pair[0]  # conductance_pair는 (gp, gm), params 반환\n",
    "\n",
    "            # 0이 아닌 값 확인\n",
    "            gp_nonzero = gp[gp > 0]\n",
    "            gm_nonzero = gm[gm > 0]\n",
    "\n",
    "            print(f\"Layer: {name}, Gp Min: {gp.min().item()}, Max: {gp.max().item()}, Nonzero count: {gp_nonzero.numel()}\")\n",
    "            print(f\"Layer: {name}, Gm Min: {gm.min().item()}, Max: {gm.max().item()}, Nonzero count: {gm_nonzero.numel()}\")\n",
    "\n",
    "            if len(param.size()) == 4:  # Convolutional Layer\n",
    "                if gp_nonzero.numel() > 0 or gm_nonzero.numel() > 0:  # ✅ 0이 아닌 값이 있는 경우만 저장\n",
    "                    conductance_list_conv.append((gp.flatten(), gm.flatten()))\n",
    "\n",
    "            elif len(param.size()) == 2:  # Fully Connected Layer\n",
    "                if gp_nonzero.numel() > 0 or gm_nonzero.numel() > 0:\n",
    "                    conductance_list_fc.append((gp.flatten(), gm.flatten()))\n",
    "\n",
    "    return conductance_list_fc, conductance_list_conv\n",
    "\n",
    "# 실행\n",
    "g_fc, g_conv = convert_weights_to_conductance(analog_model, rpu_config)\n",
    "print(f\"Conv Conductance Count: {len(g_conv)}\")\n"
   ]
  },
  {
   "cell_type": "code",
   "execution_count": 52,
   "metadata": {},
   "outputs": [
    {
     "name": "stdout",
     "output_type": "stream",
     "text": [
      "Layer: conv1.analog_module.shared_weights, Shape: torch.Size([64, 27]), Weight Min: -1.0, Max: 0.9223161339759827\n",
      "Layer: conv1.analog_module.shared_weights, Gp Min: 0.0, Max: 23.057903289794922, Nonzero count: 599\n",
      "Layer: conv1.analog_module.shared_weights, Gm Min: 0.0, Max: 25.0, Nonzero count: 611\n",
      "Layer: layer1.0.conv1.analog_module.shared_weights, Shape: torch.Size([64, 576]), Weight Min: -1.0, Max: 0.819492518901825\n",
      "Layer: layer1.0.conv1.analog_module.shared_weights, Gp Min: 0.0, Max: 20.48731231689453, Nonzero count: 12142\n",
      "Layer: layer1.0.conv1.analog_module.shared_weights, Gm Min: 0.0, Max: 25.0, Nonzero count: 13663\n",
      "Layer: layer1.0.conv2.analog_module.shared_weights, Shape: torch.Size([64, 576]), Weight Min: -0.9123048782348633, Max: 1.0\n",
      "Layer: layer1.0.conv2.analog_module.shared_weights, Gp Min: 0.0, Max: 25.0, Nonzero count: 11993\n",
      "Layer: layer1.0.conv2.analog_module.shared_weights, Gm Min: 0.0, Max: 22.807621002197266, Nonzero count: 13812\n",
      "Layer: layer1.1.conv1.analog_module.shared_weights, Shape: torch.Size([64, 576]), Weight Min: -0.9009339213371277, Max: 1.0\n",
      "Layer: layer1.1.conv1.analog_module.shared_weights, Gp Min: 0.0, Max: 25.0, Nonzero count: 11854\n",
      "Layer: layer1.1.conv1.analog_module.shared_weights, Gm Min: 0.0, Max: 22.523347854614258, Nonzero count: 13951\n",
      "Layer: layer1.1.conv2.analog_module.shared_weights, Shape: torch.Size([64, 576]), Weight Min: -1.0, Max: 0.827530026435852\n",
      "Layer: layer1.1.conv2.analog_module.shared_weights, Gp Min: 0.0, Max: 20.688251495361328, Nonzero count: 11481\n",
      "Layer: layer1.1.conv2.analog_module.shared_weights, Gm Min: 0.0, Max: 25.0, Nonzero count: 14324\n",
      "Layer: layer2.0.conv1.analog_module.shared_weights, Shape: torch.Size([128, 576]), Weight Min: -0.8114334344863892, Max: 1.0\n",
      "Layer: layer2.0.conv1.analog_module.shared_weights, Gp Min: 0.0, Max: 25.0, Nonzero count: 21984\n",
      "Layer: layer2.0.conv1.analog_module.shared_weights, Gm Min: 0.0, Max: 20.28583526611328, Nonzero count: 29626\n",
      "Layer: layer2.0.conv2.analog_module.shared_weights, Shape: torch.Size([128, 1152]), Weight Min: -0.8083857297897339, Max: 1.0\n",
      "Layer: layer2.0.conv2.analog_module.shared_weights, Gp Min: 0.0, Max: 25.0, Nonzero count: 44608\n",
      "Layer: layer2.0.conv2.analog_module.shared_weights, Gm Min: 0.0, Max: 20.20964241027832, Nonzero count: 58611\n",
      "Layer: layer2.0.downsample.0.analog_module.shared_weights, Shape: torch.Size([128, 64]), Weight Min: -0.7528002262115479, Max: 1.0\n",
      "Layer: layer2.0.downsample.0.analog_module.shared_weights, Gp Min: 0.0, Max: 25.0, Nonzero count: 2388\n",
      "Layer: layer2.0.downsample.0.analog_module.shared_weights, Gm Min: 0.0, Max: 18.820005416870117, Nonzero count: 3346\n",
      "Layer: layer2.1.conv1.analog_module.shared_weights, Shape: torch.Size([128, 1152]), Weight Min: -0.8340383172035217, Max: 1.0\n",
      "Layer: layer2.1.conv1.analog_module.shared_weights, Gp Min: 0.0, Max: 25.0, Nonzero count: 43146\n",
      "Layer: layer2.1.conv1.analog_module.shared_weights, Gm Min: 0.0, Max: 20.8509578704834, Nonzero count: 60073\n",
      "Layer: layer2.1.conv2.analog_module.shared_weights, Shape: torch.Size([128, 1152]), Weight Min: -0.5974413752555847, Max: 1.0\n",
      "Layer: layer2.1.conv2.analog_module.shared_weights, Gp Min: 0.0, Max: 25.0, Nonzero count: 41685\n",
      "Layer: layer2.1.conv2.analog_module.shared_weights, Gm Min: 0.0, Max: 14.936034202575684, Nonzero count: 61534\n",
      "Layer: layer3.0.conv1.analog_module.shared_weights, Shape: torch.Size([256, 1152]), Weight Min: -0.5225919485092163, Max: 1.0\n",
      "Layer: layer3.0.conv1.analog_module.shared_weights, Gp Min: 0.0, Max: 25.0, Nonzero count: 89825\n",
      "Layer: layer3.0.conv1.analog_module.shared_weights, Gm Min: 0.0, Max: 13.064798355102539, Nonzero count: 116613\n",
      "Layer: layer3.0.conv2.analog_module.shared_weights, Shape: torch.Size([256, 2304]), Weight Min: -0.715391218662262, Max: 1.0\n",
      "Layer: layer3.0.conv2.analog_module.shared_weights, Gp Min: 0.0, Max: 25.0, Nonzero count: 180028\n",
      "Layer: layer3.0.conv2.analog_module.shared_weights, Gm Min: 0.0, Max: 17.884780883789062, Nonzero count: 232849\n",
      "Layer: layer3.0.downsample.0.analog_module.shared_weights, Shape: torch.Size([256, 128]), Weight Min: -0.7164983153343201, Max: 1.0\n",
      "Layer: layer3.0.downsample.0.analog_module.shared_weights, Gp Min: 0.0, Max: 25.0, Nonzero count: 9607\n",
      "Layer: layer3.0.downsample.0.analog_module.shared_weights, Gm Min: 0.0, Max: 17.912458419799805, Nonzero count: 13331\n",
      "Layer: layer3.1.conv1.analog_module.shared_weights, Shape: torch.Size([256, 2304]), Weight Min: -1.0, Max: 0.9957705736160278\n",
      "Layer: layer3.1.conv1.analog_module.shared_weights, Gp Min: 0.0, Max: 24.894264221191406, Nonzero count: 166876\n",
      "Layer: layer3.1.conv1.analog_module.shared_weights, Gm Min: 0.0, Max: 25.0, Nonzero count: 246001\n",
      "Layer: layer3.1.conv2.analog_module.shared_weights, Shape: torch.Size([256, 2304]), Weight Min: -1.0, Max: 0.883598804473877\n",
      "Layer: layer3.1.conv2.analog_module.shared_weights, Gp Min: 0.0, Max: 22.089969635009766, Nonzero count: 138300\n",
      "Layer: layer3.1.conv2.analog_module.shared_weights, Gm Min: 0.0, Max: 25.0, Nonzero count: 274577\n",
      "Layer: layer4.0.conv1.analog_module.shared_weights, Shape: torch.Size([512, 2304]), Weight Min: -1.0, Max: 0.7385132312774658\n",
      "Layer: layer4.0.conv1.analog_module.shared_weights, Gp Min: 0.0, Max: 18.462831497192383, Nonzero count: 383370\n",
      "Layer: layer4.0.conv1.analog_module.shared_weights, Gm Min: 0.0, Max: 25.0, Nonzero count: 442384\n",
      "Layer: layer4.0.conv2.analog_module.shared_weights, Shape: torch.Size([512, 4608]), Weight Min: -0.3153129518032074, Max: 1.0\n",
      "Layer: layer4.0.conv2.analog_module.shared_weights, Gp Min: 0.0, Max: 25.0, Nonzero count: 676257\n",
      "Layer: layer4.0.conv2.analog_module.shared_weights, Gm Min: 0.0, Max: 7.882823944091797, Nonzero count: 975250\n",
      "Layer: layer4.0.downsample.0.analog_module.shared_weights, Shape: torch.Size([512, 256]), Weight Min: -0.6606003046035767, Max: 1.0\n",
      "Layer: layer4.0.downsample.0.analog_module.shared_weights, Gp Min: 0.0, Max: 25.0, Nonzero count: 39957\n",
      "Layer: layer4.0.downsample.0.analog_module.shared_weights, Gm Min: 0.0, Max: 16.51500701904297, Nonzero count: 51793\n",
      "Layer: layer4.1.conv1.analog_module.shared_weights, Shape: torch.Size([512, 4608]), Weight Min: -0.3146153390407562, Max: 1.0\n",
      "Layer: layer4.1.conv1.analog_module.shared_weights, Gp Min: 0.0, Max: 25.0, Nonzero count: 1334754\n",
      "Layer: layer4.1.conv1.analog_module.shared_weights, Gm Min: 0.0, Max: 7.865383625030518, Nonzero count: 316753\n",
      "Layer: layer4.1.conv2.analog_module.shared_weights, Shape: torch.Size([512, 4608]), Weight Min: -0.23316241800785065, Max: 1.0\n",
      "Layer: layer4.1.conv2.analog_module.shared_weights, Gp Min: 0.0, Max: 25.0, Nonzero count: 573782\n",
      "Layer: layer4.1.conv2.analog_module.shared_weights, Gm Min: 0.0, Max: 5.8290605545043945, Nonzero count: 1077725\n",
      "Layer: fc.analog_module.shared_weights, Shape: torch.Size([10, 512]), Weight Min: -0.15073257684707642, Max: 1.0\n",
      "Layer: fc.analog_module.shared_weights, Gp Min: 0.0, Max: 25.0, Nonzero count: 669\n",
      "Layer: fc.analog_module.shared_weights, Gm Min: 0.0, Max: 3.7683143615722656, Nonzero count: 2915\n",
      "✅ Conv Conductance Count: 0\n",
      "✅ FC Conductance Count: 21\n"
     ]
    }
   ],
   "source": [
    "def convert_weights_to_conductance(analog_model, rpu_config):\n",
    "    conductance_list_fc = []\n",
    "    conductance_list_conv = []\n",
    "\n",
    "    for name, param in analog_model.named_parameters():  # ✅ 변환된 모델에서 weight 가져오기\n",
    "        if \"analog_module.shared_weights\" in name:  # ✅ analog_model의 shared_weights만 선택\n",
    "            weights = param.data.cpu()\n",
    "            print(f\"Layer: {name}, Shape: {weights.shape}, Weight Min: {weights.min().item()}, Max: {weights.max().item()}\")  \n",
    "\n",
    "            # Conductance 변환 수행\n",
    "            conductance_pair = rpu_config.noise_model.g_converter.convert_to_conductances(weights)\n",
    "            gp, gm = conductance_pair[0]  # conductance_pair는 (gp, gm), params 반환\n",
    "\n",
    "            # 0이 아닌 값 확인\n",
    "            gp_nonzero = gp[gp > 0]\n",
    "            gm_nonzero = gm[gm > 0]\n",
    "\n",
    "            print(f\"Layer: {name}, Gp Min: {gp.min().item()}, Max: {gp.max().item()}, Nonzero count: {gp_nonzero.numel()}\")\n",
    "            print(f\"Layer: {name}, Gm Min: {gm.min().item()}, Max: {gm.max().item()}, Nonzero count: {gm_nonzero.numel()}\")\n",
    "\n",
    "            # ✅ Conv / FC 분리 (shared_weights는 3D로 나올 가능성 있음)\n",
    "            if len(weights.shape) >= 3:  # ✅ shared_weights에 맞게 수정\n",
    "                conductance_list_conv.append((gp.flatten(), gm.flatten()))\n",
    "            elif len(weights.shape) == 2:  # Fully Connected Layer\n",
    "                conductance_list_fc.append((gp.flatten(), gm.flatten()))\n",
    "\n",
    "    print(f\"✅ Conv Conductance Count: {len(conductance_list_conv)}\")\n",
    "    print(f\"✅ FC Conductance Count: {len(conductance_list_fc)}\")\n",
    "\n",
    "    return conductance_list_fc, conductance_list_conv\n",
    "\n",
    "# 실행\n",
    "g_fc, g_conv = convert_weights_to_conductance(analog_model, rpu_config)\n"
   ]
  },
  {
   "cell_type": "code",
   "execution_count": 53,
   "metadata": {},
   "outputs": [
    {
     "name": "stdout",
     "output_type": "stream",
     "text": [
      "Layer: conv1.analog_module.shared_weights, Shape: torch.Size([64, 27]), Weight Min: -1.0, Max: 0.9223161339759827\n",
      "Layer: conv1.analog_module.shared_weights, Gp Min: 0.0, Max: 23.057903289794922, Nonzero count: 599\n",
      "Layer: conv1.analog_module.shared_weights, Gm Min: 0.0, Max: 25.0, Nonzero count: 611\n",
      "Layer: layer1.0.conv1.analog_module.shared_weights, Shape: torch.Size([64, 576]), Weight Min: -1.0, Max: 0.819492518901825\n",
      "Layer: layer1.0.conv1.analog_module.shared_weights, Gp Min: 0.0, Max: 20.48731231689453, Nonzero count: 12142\n",
      "Layer: layer1.0.conv1.analog_module.shared_weights, Gm Min: 0.0, Max: 25.0, Nonzero count: 13663\n",
      "Layer: layer1.0.conv2.analog_module.shared_weights, Shape: torch.Size([64, 576]), Weight Min: -0.9123048782348633, Max: 1.0\n",
      "Layer: layer1.0.conv2.analog_module.shared_weights, Gp Min: 0.0, Max: 25.0, Nonzero count: 11993\n",
      "Layer: layer1.0.conv2.analog_module.shared_weights, Gm Min: 0.0, Max: 22.807621002197266, Nonzero count: 13812\n",
      "Layer: layer1.1.conv1.analog_module.shared_weights, Shape: torch.Size([64, 576]), Weight Min: -0.9009339213371277, Max: 1.0\n",
      "Layer: layer1.1.conv1.analog_module.shared_weights, Gp Min: 0.0, Max: 25.0, Nonzero count: 11854\n",
      "Layer: layer1.1.conv1.analog_module.shared_weights, Gm Min: 0.0, Max: 22.523347854614258, Nonzero count: 13951\n",
      "Layer: layer1.1.conv2.analog_module.shared_weights, Shape: torch.Size([64, 576]), Weight Min: -1.0, Max: 0.827530026435852\n",
      "Layer: layer1.1.conv2.analog_module.shared_weights, Gp Min: 0.0, Max: 20.688251495361328, Nonzero count: 11481\n",
      "Layer: layer1.1.conv2.analog_module.shared_weights, Gm Min: 0.0, Max: 25.0, Nonzero count: 14324\n",
      "Layer: layer2.0.conv1.analog_module.shared_weights, Shape: torch.Size([128, 576]), Weight Min: -0.8114334344863892, Max: 1.0\n",
      "Layer: layer2.0.conv1.analog_module.shared_weights, Gp Min: 0.0, Max: 25.0, Nonzero count: 21984\n",
      "Layer: layer2.0.conv1.analog_module.shared_weights, Gm Min: 0.0, Max: 20.28583526611328, Nonzero count: 29626\n",
      "Layer: layer2.0.conv2.analog_module.shared_weights, Shape: torch.Size([128, 1152]), Weight Min: -0.8083857297897339, Max: 1.0\n",
      "Layer: layer2.0.conv2.analog_module.shared_weights, Gp Min: 0.0, Max: 25.0, Nonzero count: 44608\n",
      "Layer: layer2.0.conv2.analog_module.shared_weights, Gm Min: 0.0, Max: 20.20964241027832, Nonzero count: 58611\n",
      "Layer: layer2.0.downsample.0.analog_module.shared_weights, Shape: torch.Size([128, 64]), Weight Min: -0.7528002262115479, Max: 1.0\n",
      "Layer: layer2.0.downsample.0.analog_module.shared_weights, Gp Min: 0.0, Max: 25.0, Nonzero count: 2388\n",
      "Layer: layer2.0.downsample.0.analog_module.shared_weights, Gm Min: 0.0, Max: 18.820005416870117, Nonzero count: 3346\n",
      "Layer: layer2.1.conv1.analog_module.shared_weights, Shape: torch.Size([128, 1152]), Weight Min: -0.8340383172035217, Max: 1.0\n",
      "Layer: layer2.1.conv1.analog_module.shared_weights, Gp Min: 0.0, Max: 25.0, Nonzero count: 43146\n",
      "Layer: layer2.1.conv1.analog_module.shared_weights, Gm Min: 0.0, Max: 20.8509578704834, Nonzero count: 60073\n",
      "Layer: layer2.1.conv2.analog_module.shared_weights, Shape: torch.Size([128, 1152]), Weight Min: -0.5974413752555847, Max: 1.0\n",
      "Layer: layer2.1.conv2.analog_module.shared_weights, Gp Min: 0.0, Max: 25.0, Nonzero count: 41685\n",
      "Layer: layer2.1.conv2.analog_module.shared_weights, Gm Min: 0.0, Max: 14.936034202575684, Nonzero count: 61534\n",
      "Layer: layer3.0.conv1.analog_module.shared_weights, Shape: torch.Size([256, 1152]), Weight Min: -0.5225919485092163, Max: 1.0\n",
      "Layer: layer3.0.conv1.analog_module.shared_weights, Gp Min: 0.0, Max: 25.0, Nonzero count: 89825\n",
      "Layer: layer3.0.conv1.analog_module.shared_weights, Gm Min: 0.0, Max: 13.064798355102539, Nonzero count: 116613\n",
      "Layer: layer3.0.conv2.analog_module.shared_weights, Shape: torch.Size([256, 2304]), Weight Min: -0.715391218662262, Max: 1.0\n",
      "Layer: layer3.0.conv2.analog_module.shared_weights, Gp Min: 0.0, Max: 25.0, Nonzero count: 180028\n",
      "Layer: layer3.0.conv2.analog_module.shared_weights, Gm Min: 0.0, Max: 17.884780883789062, Nonzero count: 232849\n",
      "Layer: layer3.0.downsample.0.analog_module.shared_weights, Shape: torch.Size([256, 128]), Weight Min: -0.7164983153343201, Max: 1.0\n",
      "Layer: layer3.0.downsample.0.analog_module.shared_weights, Gp Min: 0.0, Max: 25.0, Nonzero count: 9607\n",
      "Layer: layer3.0.downsample.0.analog_module.shared_weights, Gm Min: 0.0, Max: 17.912458419799805, Nonzero count: 13331\n",
      "Layer: layer3.1.conv1.analog_module.shared_weights, Shape: torch.Size([256, 2304]), Weight Min: -1.0, Max: 0.9957705736160278\n",
      "Layer: layer3.1.conv1.analog_module.shared_weights, Gp Min: 0.0, Max: 24.894264221191406, Nonzero count: 166876\n",
      "Layer: layer3.1.conv1.analog_module.shared_weights, Gm Min: 0.0, Max: 25.0, Nonzero count: 246001\n",
      "Layer: layer3.1.conv2.analog_module.shared_weights, Shape: torch.Size([256, 2304]), Weight Min: -1.0, Max: 0.883598804473877\n",
      "Layer: layer3.1.conv2.analog_module.shared_weights, Gp Min: 0.0, Max: 22.089969635009766, Nonzero count: 138300\n",
      "Layer: layer3.1.conv2.analog_module.shared_weights, Gm Min: 0.0, Max: 25.0, Nonzero count: 274577\n",
      "Layer: layer4.0.conv1.analog_module.shared_weights, Shape: torch.Size([512, 2304]), Weight Min: -1.0, Max: 0.7385132312774658\n",
      "Layer: layer4.0.conv1.analog_module.shared_weights, Gp Min: 0.0, Max: 18.462831497192383, Nonzero count: 383370\n",
      "Layer: layer4.0.conv1.analog_module.shared_weights, Gm Min: 0.0, Max: 25.0, Nonzero count: 442384\n",
      "Layer: layer4.0.conv2.analog_module.shared_weights, Shape: torch.Size([512, 4608]), Weight Min: -0.3153129518032074, Max: 1.0\n",
      "Layer: layer4.0.conv2.analog_module.shared_weights, Gp Min: 0.0, Max: 25.0, Nonzero count: 676257\n",
      "Layer: layer4.0.conv2.analog_module.shared_weights, Gm Min: 0.0, Max: 7.882823944091797, Nonzero count: 975250\n",
      "Layer: layer4.0.downsample.0.analog_module.shared_weights, Shape: torch.Size([512, 256]), Weight Min: -0.6606003046035767, Max: 1.0\n",
      "Layer: layer4.0.downsample.0.analog_module.shared_weights, Gp Min: 0.0, Max: 25.0, Nonzero count: 39957\n",
      "Layer: layer4.0.downsample.0.analog_module.shared_weights, Gm Min: 0.0, Max: 16.51500701904297, Nonzero count: 51793\n",
      "Layer: layer4.1.conv1.analog_module.shared_weights, Shape: torch.Size([512, 4608]), Weight Min: -0.3146153390407562, Max: 1.0\n",
      "Layer: layer4.1.conv1.analog_module.shared_weights, Gp Min: 0.0, Max: 25.0, Nonzero count: 1334754\n",
      "Layer: layer4.1.conv1.analog_module.shared_weights, Gm Min: 0.0, Max: 7.865383625030518, Nonzero count: 316753\n",
      "Layer: layer4.1.conv2.analog_module.shared_weights, Shape: torch.Size([512, 4608]), Weight Min: -0.23316241800785065, Max: 1.0\n",
      "Layer: layer4.1.conv2.analog_module.shared_weights, Gp Min: 0.0, Max: 25.0, Nonzero count: 573782\n",
      "Layer: layer4.1.conv2.analog_module.shared_weights, Gm Min: 0.0, Max: 5.8290605545043945, Nonzero count: 1077725\n",
      "Layer: fc.analog_module.shared_weights, Shape: torch.Size([10, 512]), Weight Min: -0.15073257684707642, Max: 1.0\n",
      "Layer: fc.analog_module.shared_weights, Gp Min: 0.0, Max: 25.0, Nonzero count: 669\n",
      "Layer: fc.analog_module.shared_weights, Gm Min: 0.0, Max: 3.7683143615722656, Nonzero count: 2915\n",
      "✅ Conv Conductance Count: 20\n",
      "✅ FC Conductance Count: 1\n"
     ]
    }
   ],
   "source": [
    "def convert_weights_to_conductance(analog_model, rpu_config):\n",
    "    conductance_list_fc = []\n",
    "    conductance_list_conv = []\n",
    "\n",
    "    for name, param in analog_model.named_parameters():\n",
    "        if \"analog_module.shared_weights\" in name:  # ✅ 변환된 모델의 shared_weights만 선택\n",
    "            weights = param.data.cpu()\n",
    "            print(f\"Layer: {name}, Shape: {weights.shape}, Weight Min: {weights.min().item()}, Max: {weights.max().item()}\")\n",
    "\n",
    "            # Conductance 변환 수행\n",
    "            conductance_pair = rpu_config.noise_model.g_converter.convert_to_conductances(weights)\n",
    "            gp, gm = conductance_pair[0]\n",
    "\n",
    "            # 0이 아닌 값 확인\n",
    "            gp_nonzero = gp[gp > 0]\n",
    "            gm_nonzero = gm[gm > 0]\n",
    "\n",
    "            print(f\"Layer: {name}, Gp Min: {gp.min().item()}, Max: {gp.max().item()}, Nonzero count: {gp_nonzero.numel()}\")\n",
    "            print(f\"Layer: {name}, Gm Min: {gm.min().item()}, Max: {gm.max().item()}, Nonzero count: {gm_nonzero.numel()}\")\n",
    "\n",
    "            # ✅ Conv와 FC 구별하는 새로운 방법 추가\n",
    "            if \"fc\" in name or weights.shape[0] <= 10:  # FC 레이어\n",
    "                conductance_list_fc.append((gp.flatten(), gm.flatten()))\n",
    "            else:  # Conv 레이어 (shared_weights 형태 적용)\n",
    "                conductance_list_conv.append((gp.flatten(), gm.flatten()))\n",
    "\n",
    "    print(f\"✅ Conv Conductance Count: {len(conductance_list_conv)}\")\n",
    "    print(f\"✅ FC Conductance Count: {len(conductance_list_fc)}\")\n",
    "\n",
    "    return conductance_list_fc, conductance_list_conv\n",
    "\n",
    "# 실행\n",
    "g_fc, g_conv = convert_weights_to_conductance(analog_model, rpu_config)\n"
   ]
  },
  {
   "cell_type": "code",
   "execution_count": null,
   "metadata": {},
   "outputs": [],
   "source": []
  },
  {
   "cell_type": "code",
   "execution_count": null,
   "metadata": {},
   "outputs": [],
   "source": []
  },
  {
   "cell_type": "code",
   "execution_count": null,
   "metadata": {},
   "outputs": [],
   "source": []
  },
  {
   "cell_type": "code",
   "execution_count": null,
   "metadata": {},
   "outputs": [],
   "source": []
  },
  {
   "cell_type": "code",
   "execution_count": null,
   "metadata": {},
   "outputs": [],
   "source": []
  }
 ],
 "metadata": {
  "kernelspec": {
   "display_name": ".venv",
   "language": "python",
   "name": ".venv"
  },
  "language_info": {
   "codemirror_mode": {
    "name": "ipython",
    "version": 3
   },
   "file_extension": ".py",
   "mimetype": "text/x-python",
   "name": "python",
   "nbconvert_exporter": "python",
   "pygments_lexer": "ipython3",
   "version": "3.10.12"
  }
 },
 "nbformat": 4,
 "nbformat_minor": 2
}
