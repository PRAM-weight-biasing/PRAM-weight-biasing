{
 "cells": [
  {
   "cell_type": "code",
   "execution_count": 39,
   "id": "f12df0cf",
   "metadata": {},
   "outputs": [],
   "source": [
    "# -*- coding: utf-8 -*-\n",
    "\n",
    "import numpy as np\n",
    "\n",
    "class GetValue():\n",
    "    \"\"\"\n",
    "    calculate values from measured data without instance initialization.\n",
    "    \n",
    "    \"\"\"\n",
    "    \n",
    "    @staticmethod\n",
    "    def extract_Vth(VG:list, ID:list, target=1.0e-10) -> list:\n",
    "        \"\"\"Extract the Vth value from the measured data.\n",
    "\n",
    "        Args:\n",
    "            VG (list): Array of gate voltages.\n",
    "            ID (list): Array of drain currents.\n",
    "            target (float, optional): Target current value to find the threshold voltage. Defaults to 1.0e-10.\n",
    "            \n",
    "        Returns:\n",
    "            Vth (list): Array of threshold voltages corresponding to each sweep in ID.\n",
    "        \"\"\"\n",
    "        \n",
    "        VG = np.array(VG)\n",
    "        ID = np.array(ID)\n",
    "        # n = len(np.unique(VG))  # if not used, can be removed\n",
    "        sweepNum = ID.shape[1]\n",
    "        vth_list = []\n",
    "\n",
    "        for i in range(sweepNum):\n",
    "            diff = ID[:, i] - target\n",
    "            num = np.where(diff > 0)[0]\n",
    "\n",
    "            if num.size == 0:\n",
    "                vth = None\n",
    "            else:\n",
    "                # Find first consecutive pair\n",
    "                k = None\n",
    "                for a in range(len(num) - 1):\n",
    "                    if num[a + 1] - num[a] == 1:\n",
    "                        k = num[a]\n",
    "                        break\n",
    "\n",
    "                if k is None:\n",
    "                    # if no consecutive pair is found, return None\n",
    "                    vth = None\n",
    "                elif k == 0:\n",
    "                    # if the first point is the point of interest\n",
    "                    vth = VG[k]\n",
    "                else:\n",
    "                    # calculate Vth by linear interpolation\n",
    "                    x_vals = [ID[k - 1, i], ID[k, i]]\n",
    "                    y_vals = [VG[k - 1], VG[k]]\n",
    "\n",
    "                    # Ensure x_vals are in ascending order\n",
    "                    if x_vals[0] > x_vals[1]:\n",
    "                        x_vals, y_vals = x_vals[::-1], y_vals[::-1]  # reverse both lists\n",
    "                    \n",
    "                    # interpolate\n",
    "                    vth = float(np.interp(target, x_vals, y_vals))\n",
    "\n",
    "            vth_list.append(vth)\n",
    "\n",
    "        return vth_list\n",
    "\n",
    "\n",
    "    @staticmethod\n",
    "    def extract_SS(VG:list, ID:list, target=1.0e-9) -> list:\n",
    "        \"\"\"Extract the subthreshold swing (SS) from the measured data.\n",
    "\n",
    "        Args:\n",
    "            VG (list): Array of gate voltages.\n",
    "            ID (list): Array of drain currents.\n",
    "            target (float, optional): Target current value to find the subthreshold swing. Defaults to 1.0e-9.\n",
    "\n",
    "        Returns:\n",
    "            ss (list): Array of subthreshold swings corresponding to each sweep in ID. \n",
    "            \n",
    "        Note:\n",
    "            ss = (V1 - Vth) * 1000, where V1(@ 1e-9), Vth(@ 1e-10) respectively.\n",
    "        \"\"\"\n",
    "\n",
    "        VG = np.array(VG)\n",
    "        ID = np.array(ID)\n",
    "        sweepNum = ID.shape[1]\n",
    "        vth_list = GetValue.extract_Vth(VG, ID)\n",
    "        ss_list = []\n",
    "\n",
    "        for i in range(sweepNum):\n",
    "            diff = ID[:, i] - target\n",
    "\n",
    "            # Find first consecutive pair where the sign changes\n",
    "            k = None\n",
    "            for idx in range(len(VG) - 1):\n",
    "                if diff[idx] * diff[idx + 1] <= 0:\n",
    "                    k = idx\n",
    "                    break\n",
    "\n",
    "            if k is None:  \n",
    "                # if no sign change is found, return None\n",
    "                ss_list.append(None)\n",
    "                continue\n",
    "\n",
    "            # Calculate V1 based on the index k\n",
    "            if k == 0:\n",
    "                V1 = VG[k]\n",
    "            else:\n",
    "                x_vals = [ID[k, i], ID[k + 1, i]]\n",
    "                y_vals = [VG[k], VG[k + 1]]\n",
    "                \n",
    "                # Ensure x_vals are in ascending order\n",
    "                if x_vals[0] > x_vals[1]:\n",
    "                    x_vals, y_vals = x_vals[::-1], y_vals[::-1]\n",
    "                \n",
    "                V1 = float(np.interp(target, x_vals, y_vals))\n",
    "\n",
    "            # ss calculation [mV/decade]\n",
    "            vth = vth_list[i] if vth_list[i] is not None else np.nan\n",
    "            ss = (V1 - vth) * 1000\n",
    "            ss_list.append(ss)\n",
    "\n",
    "        return ss_list\n",
    "        \n"
   ]
  },
  {
   "cell_type": "code",
   "execution_count": 36,
   "id": "ab7cb1e2",
   "metadata": {},
   "outputs": [],
   "source": [
    "VG_list = [-2, -1.5, -1, -0.5, 0, 0.5, 1.0, 1.5, 2.0]\n",
    "ID_list_2D = [\n",
    "    [1e-12, 2e-12],\n",
    "    [1e-11, 3e-11],\n",
    "    [5e-11, 8e-11],\n",
    "    [2e-10, 3e-10],\n",
    "    [1e-9, 2e-9],\n",
    "    [5e-9, 8e-9],\n",
    "    [2e-8, 3e-8],\n",
    "    [1e-7, 2e-7],\n",
    "    [5e-7, 8e-7]\n",
    "]\n"
   ]
  },
  {
   "cell_type": "code",
   "execution_count": 19,
   "id": "e6a05c64",
   "metadata": {},
   "outputs": [
    {
     "name": "stdout",
     "output_type": "stream",
     "text": [
      "[-0.8333333333333333, -0.9545454545454546]\n"
     ]
    }
   ],
   "source": [
    "vth_results = extract_Vth(VG_list, ID_list_2D, target=1e-10)\n",
    "print(vth_results)"
   ]
  },
  {
   "cell_type": "code",
   "execution_count": 37,
   "id": "2915b473",
   "metadata": {},
   "outputs": [
    {
     "name": "stdout",
     "output_type": "stream",
     "text": [
      "[-0.8333333333333333, -0.9545454545454546]\n"
     ]
    }
   ],
   "source": [
    "vth = GetValue.extract_Vth(VG_list, ID_list_2D)\n",
    "print(vth)"
   ]
  },
  {
   "cell_type": "code",
   "execution_count": 40,
   "id": "66e58c5f",
   "metadata": {},
   "outputs": [
    {
     "name": "stdout",
     "output_type": "stream",
     "text": [
      "[833.3333333333333, 660.4278074866311]\n"
     ]
    }
   ],
   "source": [
    "ss = GetValue.extract_SS(VG_list, ID_list_2D)\n",
    "print(ss)"
   ]
  },
  {
   "cell_type": "code",
   "execution_count": 26,
   "id": "cd4731ab",
   "metadata": {},
   "outputs": [
    {
     "data": {
      "text/plain": [
       "<matplotlib.legend.Legend at 0x7fc9ad6c86a0>"
      ]
     },
     "execution_count": 26,
     "metadata": {},
     "output_type": "execute_result"
    },
    {
     "data": {
      "image/png": "[encoded data removed]",
      "text/plain": [
       "<Figure size 640x480 with 1 Axes>"
      ]
     },
     "metadata": {},
     "output_type": "display_data"
    }
   ],
   "source": [
    "import matplotlib.pyplot as plt\n",
    "\n",
    "VG = np.array(VG_list)\n",
    "ID = np.array(ID_list_2D)\n",
    "\n",
    "plt.plot(VG, ID[:,0], marker='o', label='Sweep 1')\n",
    "plt.plot(VG, ID[:,1], marker='o', label='Sweep 2')\n",
    "plt.yscale('log')\n",
    "plt.legend()"
   ]
  },
  {
   "cell_type": "code",
   "execution_count": null,
   "id": "5b068955",
   "metadata": {},
   "outputs": [],
   "source": []
  }
 ],
 "metadata": {
  "kernelspec": {
   "display_name": ".venv",
   "language": "python",
   "name": "python3"
  },
  "language_info": {
   "codemirror_mode": {
    "name": "ipython",
    "version": 3
   },
   "file_extension": ".py",
   "mimetype": "text/x-python",
   "name": "python",
   "nbconvert_exporter": "python",
   "pygments_lexer": "ipython3",
   "version": "3.10.12"
  }
 },
 "nbformat": 4,
 "nbformat_minor": 5
}
