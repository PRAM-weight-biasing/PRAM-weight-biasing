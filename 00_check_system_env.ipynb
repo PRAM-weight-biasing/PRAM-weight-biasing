{
 "cells": [
  {
   "cell_type": "code",
   "execution_count": 4,
   "metadata": {},
   "outputs": [
    {
     "name": "stdout",
     "output_type": "stream",
     "text": [
      "Python: 3.10.12\n",
      "OS: Linux 5.15.167.4-microsoft-standard-WSL2\n",
      "Torch: 2.3.1+cu121\n",
      "CUDA: 12.1\n",
      "Torch CUDA available: True\n",
      "AIHWKit: 0.9.2\n",
      "AIHWKit CUDA compiled: True\n",
      "CUDA device: NVIDIA GeForce GTX 1660 SUPER\n"
     ]
    }
   ],
   "source": [
    "import torch\n",
    "import aihwkit\n",
    "from aihwkit.simulator.rpu_base import cuda\n",
    "import platform\n",
    "import os\n",
    "\n",
    "print(\"Python:\", platform.python_version())\n",
    "print(\"OS:\", platform.system(), platform.release())\n",
    "print(\"Torch:\", torch.__version__)\n",
    "print(\"CUDA:\", torch.version.cuda)\n",
    "print(\"Torch CUDA available:\", torch.cuda.is_available())\n",
    "print(\"AIHWKit:\", aihwkit.__version__)\n",
    "print(\"AIHWKit CUDA compiled:\", cuda.is_compiled())\n",
    "\n",
    "if torch.cuda.is_available():\n",
    "    print(\"CUDA device:\", torch.cuda.get_device_name(0))"
   ]
  }
 ],
 "metadata": {
  "kernelspec": {
   "display_name": ".venv",
   "language": "python",
   "name": "python3"
  },
  "language_info": {
   "codemirror_mode": {
    "name": "ipython",
    "version": 3
   },
   "file_extension": ".py",
   "mimetype": "text/x-python",
   "name": "python",
   "nbconvert_exporter": "python",
   "pygments_lexer": "ipython3",
   "version": "3.10.12"
  }
 },
 "nbformat": 4,
 "nbformat_minor": 2
}
